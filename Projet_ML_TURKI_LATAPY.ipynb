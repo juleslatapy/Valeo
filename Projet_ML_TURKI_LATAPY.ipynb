{
 "cells": [
  {
   "cell_type": "markdown",
   "metadata": {},
   "source": [
    "# PROJET ML - NOTEBOOK\n",
    "## CHALLENGE  : AI POWERED VISUAL INSPECTION FOR MANUFACTURING by VALEO\n",
    "## Import des modules"
   ]
  },
  {
   "cell_type": "code",
   "execution_count": 1,
   "metadata": {},
   "outputs": [],
   "source": [
    "from sklearn.datasets import load_files\n",
    "from sklearn.model_selection import train_test_split\n",
    "import numpy as np\n",
    "from glob import glob\n",
    "from PIL import ImageFile\n",
    "import random\n",
    "from tqdm import tqdm\n",
    "\n",
    "import tensorflow as tf\n",
    "from keras.preprocessing import image\n",
    "from keras.utils import np_utils\n",
    "from keras.layers import Conv2D, MaxPooling2D, GlobalAveragePooling2D\n",
    "from keras.layers import Dropout, Flatten, Dense\n",
    "from keras.models import Sequential\n",
    "from keras.callbacks import ModelCheckpoint\n",
    "\n",
    "import os\n",
    "import numpy as np\n",
    "import matplotlib.pyplot as plt\n",
    "import pandas as pd\n",
    "import seaborn as sns\n",
    "\n",
    "from sklearn.metrics import confusion_matrix\n",
    "from sklearn.metrics import accuracy_score"
   ]
  },
  {
   "cell_type": "markdown",
   "metadata": {},
   "source": [
    "## Import des donnée : tables liant le nom des photos à l'output (0 ou 1)"
   ]
  },
  {
   "cell_type": "code",
   "execution_count": 3,
   "metadata": {},
   "outputs": [],
   "source": [
    "test = pd.read_csv(\"Y_Benchmark.csv\" )\n",
    "train = pd.read_csv(\"y_train_ExZpBft.csv\" )"
   ]
  },
  {
   "cell_type": "code",
   "execution_count": 4,
   "metadata": {},
   "outputs": [
    {
     "name": "stdout",
     "output_type": "stream",
     "text": [
      "                              images  labels\n",
      "9284  AE00227_190138_00_2_4_2001.jpg       1\n",
      "361   AE00281_012729_00_2_3_2001.jpg       1\n",
      "5642  AE00544_070649_00_1_4_2001.jpg       1\n",
      "5771  AE00305_191644_00_2_3_2001.jpg       1\n",
      "6996  AE00248_092700_00_3_3_2001.jpg       1\n",
      "                              images  labels\n",
      "563   AE00549_232227_00_1_4_2001.jpg       1\n",
      "1833  AE00453_153443_00_4_2_2001.jpg       1\n",
      "139   AE00352_111211_00_3_4_2001.jpg       1\n",
      "616   AE00182_033810_00_3_2_2001.jpg       1\n",
      "230   AE00227_181809_00_2_2_2001.jpg       1\n"
     ]
    }
   ],
   "source": [
    "print(train.sample(5))\n",
    "print(test.sample(5))"
   ]
  },
  {
   "cell_type": "markdown",
   "metadata": {},
   "source": [
    "## Sampling de 2000 images pour train/validation et de 400 en test"
   ]
  },
  {
   "cell_type": "code",
   "execution_count": 5,
   "metadata": {},
   "outputs": [
    {
     "name": "stdout",
     "output_type": "stream",
     "text": [
      "(10609, 2)\n",
      "(2000, 2)\n",
      "(1988, 2)\n",
      "(400, 2)\n"
     ]
    }
   ],
   "source": [
    "print(train.shape)\n",
    "train_1000 = train.sample(2000, random_state = 42)\n",
    "print(train_1000.shape)\n",
    "\n",
    "print(test.shape)\n",
    "test_new = test.sample(400, random_state = 42)\n",
    "print(test_new.shape)"
   ]
  },
  {
   "cell_type": "markdown",
   "metadata": {},
   "source": [
    "## On ajoute le chemin d'emplacement des images"
   ]
  },
  {
   "cell_type": "code",
   "execution_count": 6,
   "metadata": {},
   "outputs": [
    {
     "name": "stdout",
     "output_type": "stream",
     "text": [
      "754\n",
      "1246\n"
     ]
    },
    {
     "name": "stderr",
     "output_type": "stream",
     "text": [
      "<ipython-input-6-fffb2269fc72>:2: SettingWithCopyWarning: \n",
      "A value is trying to be set on a copy of a slice from a DataFrame.\n",
      "Try using .loc[row_indexer,col_indexer] = value instead\n",
      "\n",
      "See the caveats in the documentation: https://pandas.pydata.org/pandas-docs/stable/user_guide/indexing.html#returning-a-view-versus-a-copy\n",
      "  train_0['path'] = 'x_train/1/' + train_0['images'].astype(str)\n",
      "<ipython-input-6-fffb2269fc72>:4: SettingWithCopyWarning: \n",
      "A value is trying to be set on a copy of a slice from a DataFrame.\n",
      "Try using .loc[row_indexer,col_indexer] = value instead\n",
      "\n",
      "See the caveats in the documentation: https://pandas.pydata.org/pandas-docs/stable/user_guide/indexing.html#returning-a-view-versus-a-copy\n",
      "  train_1['path'] = 'x_train/2/' + train_1['images'].astype(str)\n"
     ]
    }
   ],
   "source": [
    "train_0 = train_1000.query('labels == 0')\n",
    "train_0['path'] = 'x_train/1/' + train_0['images'].astype(str)\n",
    "train_1 = train_1000.query('labels == 1')\n",
    "train_1['path'] = 'x_train/2/' + train_1['images'].astype(str)\n",
    "print(len(train_0))\n",
    "print(len(train_1))\n",
    "\n",
    "train_new = pd.concat([train_0,train_1])\n",
    "\n",
    "test_new['path'] = 'x_test/' + test_new['images'].astype(str)"
   ]
  },
  {
   "cell_type": "code",
   "execution_count": 7,
   "metadata": {},
   "outputs": [
    {
     "name": "stdout",
     "output_type": "stream",
     "text": [
      "                               images  labels  \\\n",
      "10593  AE00379_014107_00_1_3_2001.jpg       0   \n",
      "7037   AE00385_023907_00_1_1_2001.jpg       1   \n",
      "6214   AE00343_225527_00_4_1_2001.jpg       1   \n",
      "5146   AE00382_084558_00_3_3_2001.jpg       1   \n",
      "3058   AE00299_041514_00_3_4_2001.jpg       1   \n",
      "\n",
      "                                           path  \n",
      "10593  x_train/1/AE00379_014107_00_1_3_2001.jpg  \n",
      "7037   x_train/2/AE00385_023907_00_1_1_2001.jpg  \n",
      "6214   x_train/2/AE00343_225527_00_4_1_2001.jpg  \n",
      "5146   x_train/2/AE00382_084558_00_3_3_2001.jpg  \n",
      "3058   x_train/2/AE00299_041514_00_3_4_2001.jpg  \n",
      "                              images  labels  \\\n",
      "1421  AE00500_233110_00_1_1_2001.jpg       0   \n",
      "1078  AE00432_132053_00_4_2_2001.jpg       1   \n",
      "1222  AE00427_084116_00_3_1_2001.jpg       0   \n",
      "1815  AE00501_160241_00_4_3_2001.jpg       0   \n",
      "281   AE00348_044724_00_1_3_2001.jpg       1   \n",
      "\n",
      "                                       path  \n",
      "1421  x_test/AE00500_233110_00_1_1_2001.jpg  \n",
      "1078  x_test/AE00432_132053_00_4_2_2001.jpg  \n",
      "1222  x_test/AE00427_084116_00_3_1_2001.jpg  \n",
      "1815  x_test/AE00501_160241_00_4_3_2001.jpg  \n",
      "281   x_test/AE00348_044724_00_1_3_2001.jpg  \n"
     ]
    }
   ],
   "source": [
    "print(train_new.sample(5))\n",
    "print(test_new.sample(5))"
   ]
  },
  {
   "cell_type": "markdown",
   "metadata": {},
   "source": [
    "## On obtient les chemins des images et les 'labels' (0 ou 1)"
   ]
  },
  {
   "cell_type": "code",
   "execution_count": 8,
   "metadata": {},
   "outputs": [],
   "source": [
    "train_validate_files = train_new['path']\n",
    "train_validate_targets = train_new['labels']\n",
    "test_files = test_new['path']\n",
    "test_targets = test_new['labels']"
   ]
  },
  {
   "cell_type": "markdown",
   "metadata": {},
   "source": [
    "## On sépare l'achantillon de train/validation en train (1500 images) et validation (500 images)"
   ]
  },
  {
   "cell_type": "code",
   "execution_count": 9,
   "metadata": {},
   "outputs": [],
   "source": [
    "train_files, valid_files, train_targets, valid_targets = \\\n",
    "    train_test_split(train_validate_files, train_validate_targets, test_size=0.25, random_state=42)"
   ]
  },
  {
   "cell_type": "markdown",
   "metadata": {},
   "source": [
    "## On importe les images, on réduit leur taille à 200 X 200 pixels"
   ]
  },
  {
   "cell_type": "code",
   "execution_count": 10,
   "metadata": {},
   "outputs": [],
   "source": [
    "def path_to_tensor(img_path):\n",
    "\n",
    "    img = image.load_img(img_path, target_size=(200, 200),color_mode='grayscale',interpolation='nearest')\n",
    "    img_array = image.img_to_array(img)\n",
    "\n",
    "    return np.expand_dims(img_array, axis=0)\n",
    "\n",
    "def paths_to_tensor(img_paths):\n",
    "    \n",
    "    list_of_tensors = [path_to_tensor(img_path) for img_path in tqdm(img_paths)]\n",
    "    return np.vstack(list_of_tensors)"
   ]
  },
  {
   "cell_type": "code",
   "execution_count": 11,
   "metadata": {},
   "outputs": [
    {
     "name": "stderr",
     "output_type": "stream",
     "text": [
      "100%|██████████| 1500/1500 [01:42<00:00, 14.63it/s]\n",
      "100%|██████████| 500/500 [00:30<00:00, 16.23it/s]\n"
     ]
    }
   ],
   "source": [
    "ImageFile.LOAD_TRUNCATED_IMAGES = True                 \n",
    "\n",
    "train_tensors = paths_to_tensor(train_files).astype('float32')/255\n",
    "valid_tensors = paths_to_tensor(valid_files).astype('float32')/255"
   ]
  },
  {
   "cell_type": "markdown",
   "metadata": {},
   "source": [
    "#### Erratum: the test image 'AE00072_145326_00_1_2_2001.jpg' is missing. Please ignore it,"
   ]
  },
  {
   "cell_type": "code",
   "execution_count": 12,
   "metadata": {},
   "outputs": [
    {
     "name": "stderr",
     "output_type": "stream",
     "text": [
      "100%|██████████| 400/400 [00:25<00:00, 15.94it/s]\n"
     ]
    }
   ],
   "source": [
    "test_tensors = paths_to_tensor(test_files).astype('float32')/255"
   ]
  },
  {
   "cell_type": "markdown",
   "metadata": {},
   "source": [
    "# Baseline models\n",
    "## Aucune couche : baseline 1 = réseau sans hidden layer = équivalent regression logistique"
   ]
  },
  {
   "cell_type": "code",
   "execution_count": 15,
   "metadata": {},
   "outputs": [
    {
     "name": "stdout",
     "output_type": "stream",
     "text": [
      "Model: \"sequential_1\"\n",
      "_________________________________________________________________\n",
      "Layer (type)                 Output Shape              Param #   \n",
      "=================================================================\n",
      "flatten_1 (Flatten)          (None, 40000)             0         \n",
      "_________________________________________________________________\n",
      "dense_1 (Dense)              (None, 1)                 40001     \n",
      "=================================================================\n",
      "Total params: 40,001\n",
      "Trainable params: 40,001\n",
      "Non-trainable params: 0\n",
      "_________________________________________________________________\n"
     ]
    }
   ],
   "source": [
    "model = Sequential()\n",
    "\n",
    "model.add(tf.keras.Input(shape=(200,200,1)))\n",
    "#model.add(MaxPooling2D(pool_size=8))\n",
    "\n",
    "model.add(Flatten())\n",
    "\n",
    "model.add(Dense(1, activation='sigmoid'))\n",
    "\n",
    "model.summary()\n",
    "\n",
    "model.compile(optimizer=tf.keras.optimizers.Adam(learning_rate=0.0002), loss=tf.keras.losses.BinaryCrossentropy(), metrics=['accuracy'])"
   ]
  },
  {
   "cell_type": "code",
   "execution_count": 17,
   "metadata": {},
   "outputs": [
    {
     "name": "stdout",
     "output_type": "stream",
     "text": [
      "Epoch 1/40\n",
      "30/30 [==============================] - 1s 28ms/step - loss: 0.1534 - accuracy: 0.9527 - val_loss: 0.1981 - val_accuracy: 0.9300\n",
      "Epoch 2/40\n",
      "30/30 [==============================] - 1s 33ms/step - loss: 0.1500 - accuracy: 0.9580 - val_loss: 0.2126 - val_accuracy: 0.9280\n",
      "Epoch 3/40\n",
      "30/30 [==============================] - 1s 18ms/step - loss: 0.1553 - accuracy: 0.9547 - val_loss: 0.2062 - val_accuracy: 0.9360\n",
      "Epoch 4/40\n",
      "30/30 [==============================] - 1s 17ms/step - loss: 0.1489 - accuracy: 0.9553 - val_loss: 0.1915 - val_accuracy: 0.9440\n",
      "Epoch 5/40\n",
      "30/30 [==============================] - 1s 21ms/step - loss: 0.1351 - accuracy: 0.9667 - val_loss: 0.1879 - val_accuracy: 0.9380\n",
      "Epoch 6/40\n",
      "30/30 [==============================] - 0s 13ms/step - loss: 0.1278 - accuracy: 0.9700 - val_loss: 0.1871 - val_accuracy: 0.9400\n",
      "Epoch 7/40\n",
      "30/30 [==============================] - 0s 14ms/step - loss: 0.1278 - accuracy: 0.9673 - val_loss: 0.2034 - val_accuracy: 0.9500\n",
      "Epoch 8/40\n",
      "30/30 [==============================] - 1s 17ms/step - loss: 0.1342 - accuracy: 0.9640 - val_loss: 0.2435 - val_accuracy: 0.9340\n",
      "Epoch 9/40\n",
      "30/30 [==============================] - 1s 17ms/step - loss: 0.1348 - accuracy: 0.9607 - val_loss: 0.2133 - val_accuracy: 0.9420\n",
      "Epoch 10/40\n",
      "30/30 [==============================] - 0s 14ms/step - loss: 0.1314 - accuracy: 0.9687 - val_loss: 0.1847 - val_accuracy: 0.9320\n",
      "Epoch 11/40\n",
      "30/30 [==============================] - 0s 14ms/step - loss: 0.1416 - accuracy: 0.9573 - val_loss: 0.1842 - val_accuracy: 0.9440\n",
      "Epoch 12/40\n",
      "30/30 [==============================] - 1s 17ms/step - loss: 0.1177 - accuracy: 0.9660 - val_loss: 0.1860 - val_accuracy: 0.9280\n",
      "Epoch 13/40\n",
      "30/30 [==============================] - 0s 14ms/step - loss: 0.1231 - accuracy: 0.9600 - val_loss: 0.1849 - val_accuracy: 0.9400\n",
      "Epoch 14/40\n",
      "30/30 [==============================] - 0s 14ms/step - loss: 0.1267 - accuracy: 0.9633 - val_loss: 0.1855 - val_accuracy: 0.9520\n",
      "Epoch 15/40\n",
      "30/30 [==============================] - 0s 10ms/step - loss: 0.1246 - accuracy: 0.9687 - val_loss: 0.1712 - val_accuracy: 0.9340\n",
      "Epoch 16/40\n",
      "30/30 [==============================] - 0s 10ms/step - loss: 0.1236 - accuracy: 0.9673 - val_loss: 0.2153 - val_accuracy: 0.9360\n",
      "Epoch 17/40\n",
      "30/30 [==============================] - 0s 10ms/step - loss: 0.1363 - accuracy: 0.9573 - val_loss: 0.1794 - val_accuracy: 0.9540\n",
      "Epoch 18/40\n",
      "30/30 [==============================] - 0s 11ms/step - loss: 0.1239 - accuracy: 0.9653 - val_loss: 0.1701 - val_accuracy: 0.9440\n",
      "Epoch 19/40\n",
      "30/30 [==============================] - 0s 10ms/step - loss: 0.1119 - accuracy: 0.9667 - val_loss: 0.2455 - val_accuracy: 0.9320\n",
      "Epoch 20/40\n",
      "30/30 [==============================] - 0s 9ms/step - loss: 0.1310 - accuracy: 0.9640 - val_loss: 0.1925 - val_accuracy: 0.9200\n",
      "Epoch 21/40\n",
      "30/30 [==============================] - 0s 11ms/step - loss: 0.1108 - accuracy: 0.9720 - val_loss: 0.1645 - val_accuracy: 0.9460\n",
      "Epoch 22/40\n",
      "30/30 [==============================] - 0s 10ms/step - loss: 0.1013 - accuracy: 0.9780 - val_loss: 0.1663 - val_accuracy: 0.9480\n",
      "Epoch 23/40\n",
      "30/30 [==============================] - 0s 10ms/step - loss: 0.1059 - accuracy: 0.9720 - val_loss: 0.1833 - val_accuracy: 0.9540\n",
      "Epoch 24/40\n",
      "30/30 [==============================] - 0s 10ms/step - loss: 0.1190 - accuracy: 0.9653 - val_loss: 0.1737 - val_accuracy: 0.9460\n",
      "Epoch 25/40\n",
      "30/30 [==============================] - 0s 11ms/step - loss: 0.1030 - accuracy: 0.9740 - val_loss: 0.1602 - val_accuracy: 0.9380\n",
      "Epoch 26/40\n",
      "30/30 [==============================] - 0s 10ms/step - loss: 0.1081 - accuracy: 0.9727 - val_loss: 0.2301 - val_accuracy: 0.9380\n",
      "Epoch 27/40\n",
      "30/30 [==============================] - 0s 9ms/step - loss: 0.1041 - accuracy: 0.9753 - val_loss: 0.1543 - val_accuracy: 0.9480\n",
      "Epoch 28/40\n",
      "30/30 [==============================] - 0s 9ms/step - loss: 0.0925 - accuracy: 0.9813 - val_loss: 0.1543 - val_accuracy: 0.9460\n",
      "Epoch 29/40\n",
      "30/30 [==============================] - 0s 11ms/step - loss: 0.1087 - accuracy: 0.9660 - val_loss: 0.1760 - val_accuracy: 0.9360\n",
      "Epoch 30/40\n",
      "30/30 [==============================] - 0s 8ms/step - loss: 0.0946 - accuracy: 0.9793 - val_loss: 0.1981 - val_accuracy: 0.9400\n",
      "Epoch 31/40\n",
      "30/30 [==============================] - 0s 9ms/step - loss: 0.0908 - accuracy: 0.9793 - val_loss: 0.1631 - val_accuracy: 0.9560\n",
      "Epoch 32/40\n",
      "30/30 [==============================] - 0s 9ms/step - loss: 0.0887 - accuracy: 0.9820 - val_loss: 0.1628 - val_accuracy: 0.9480\n",
      "Epoch 33/40\n",
      "30/30 [==============================] - 0s 8ms/step - loss: 0.0839 - accuracy: 0.9780 - val_loss: 0.1563 - val_accuracy: 0.9440\n",
      "Epoch 34/40\n",
      "30/30 [==============================] - 0s 9ms/step - loss: 0.0827 - accuracy: 0.9833 - val_loss: 0.1486 - val_accuracy: 0.9520\n",
      "Epoch 35/40\n",
      "30/30 [==============================] - 0s 9ms/step - loss: 0.0834 - accuracy: 0.9813 - val_loss: 0.1585 - val_accuracy: 0.9460\n",
      "Epoch 36/40\n",
      "30/30 [==============================] - 0s 10ms/step - loss: 0.0874 - accuracy: 0.9840 - val_loss: 0.1576 - val_accuracy: 0.9360\n",
      "Epoch 37/40\n",
      "30/30 [==============================] - 0s 10ms/step - loss: 0.0952 - accuracy: 0.9800 - val_loss: 0.1604 - val_accuracy: 0.9480\n",
      "Epoch 38/40\n",
      "30/30 [==============================] - 0s 8ms/step - loss: 0.0961 - accuracy: 0.9740 - val_loss: 0.1462 - val_accuracy: 0.9580\n",
      "Epoch 39/40\n",
      "30/30 [==============================] - 0s 10ms/step - loss: 0.0832 - accuracy: 0.9793 - val_loss: 0.1445 - val_accuracy: 0.9600\n",
      "Epoch 40/40\n",
      "30/30 [==============================] - 0s 10ms/step - loss: 0.0825 - accuracy: 0.9833 - val_loss: 0.1542 - val_accuracy: 0.9480\n"
     ]
    },
    {
     "data": {
      "text/plain": [
       "<tensorflow.python.keras.callbacks.History at 0x1c99d95d160>"
      ]
     },
     "execution_count": 17,
     "metadata": {},
     "output_type": "execute_result"
    }
   ],
   "source": [
    "epochs = 40\n",
    "\n",
    "model.fit(train_tensors, train_targets, validation_data=(valid_tensors, valid_targets),\n",
    "          epochs=epochs, batch_size=50, verbose=1)"
   ]
  },
  {
   "cell_type": "markdown",
   "metadata": {},
   "source": [
    "## Baseline 2 = réseau avec 2 hidden layers mais toujours sans convolution"
   ]
  },
  {
   "cell_type": "code",
   "execution_count": 20,
   "metadata": {},
   "outputs": [
    {
     "name": "stdout",
     "output_type": "stream",
     "text": [
      "Model: \"sequential_3\"\n",
      "_________________________________________________________________\n",
      "Layer (type)                 Output Shape              Param #   \n",
      "=================================================================\n",
      "max_pooling2d_1 (MaxPooling2 (None, 25, 25, 1)         0         \n",
      "_________________________________________________________________\n",
      "flatten_3 (Flatten)          (None, 625)               0         \n",
      "_________________________________________________________________\n",
      "dense_5 (Dense)              (None, 256)               160256    \n",
      "_________________________________________________________________\n",
      "dropout_1 (Dropout)          (None, 256)               0         \n",
      "_________________________________________________________________\n",
      "dense_6 (Dense)              (None, 128)               32896     \n",
      "_________________________________________________________________\n",
      "dense_7 (Dense)              (None, 1)                 129       \n",
      "=================================================================\n",
      "Total params: 193,281\n",
      "Trainable params: 193,281\n",
      "Non-trainable params: 0\n",
      "_________________________________________________________________\n"
     ]
    }
   ],
   "source": [
    "model = Sequential()\n",
    "\n",
    "model.add(tf.keras.Input(shape=(200,200,1)))\n",
    "model.add(MaxPooling2D(pool_size=8))\n",
    "\n",
    "model.add(Flatten())\n",
    "model.add(Dense(256, activation='relu'))\n",
    "model.add(Dropout(0.1))\n",
    "model.add(Dense(128, activation='relu'))\n",
    "model.add(Dense(1, activation='sigmoid'))\n",
    "\n",
    "model.summary()\n",
    "\n",
    "model.compile(optimizer=tf.keras.optimizers.Adam(learning_rate=0.0002), loss=tf.keras.losses.BinaryCrossentropy(), metrics=['accuracy'])"
   ]
  },
  {
   "cell_type": "code",
   "execution_count": 21,
   "metadata": {},
   "outputs": [
    {
     "name": "stdout",
     "output_type": "stream",
     "text": [
      "Epoch 1/40\n",
      "30/30 [==============================] - 4s 149ms/step - loss: 0.5348 - accuracy: 0.7260 - val_loss: 0.4788 - val_accuracy: 0.7860\n",
      "Epoch 2/40\n",
      "30/30 [==============================] - 2s 66ms/step - loss: 0.4673 - accuracy: 0.7760 - val_loss: 0.4635 - val_accuracy: 0.7980\n",
      "Epoch 3/40\n",
      "30/30 [==============================] - 2s 63ms/step - loss: 0.4477 - accuracy: 0.7927 - val_loss: 0.4542 - val_accuracy: 0.7880\n",
      "Epoch 4/40\n",
      "30/30 [==============================] - 2s 61ms/step - loss: 0.4386 - accuracy: 0.7833 - val_loss: 0.4309 - val_accuracy: 0.7860\n",
      "Epoch 5/40\n",
      "30/30 [==============================] - 2s 62ms/step - loss: 0.4145 - accuracy: 0.8260 - val_loss: 0.4174 - val_accuracy: 0.7920\n",
      "Epoch 6/40\n",
      "30/30 [==============================] - 2s 73ms/step - loss: 0.4003 - accuracy: 0.8167 - val_loss: 0.4065 - val_accuracy: 0.8600\n",
      "Epoch 7/40\n",
      "30/30 [==============================] - 2s 68ms/step - loss: 0.3857 - accuracy: 0.8393 - val_loss: 0.4024 - val_accuracy: 0.8700\n",
      "Epoch 8/40\n",
      "30/30 [==============================] - 2s 58ms/step - loss: 0.3802 - accuracy: 0.8433 - val_loss: 0.3991 - val_accuracy: 0.8660\n",
      "Epoch 9/40\n",
      "30/30 [==============================] - 2s 63ms/step - loss: 0.3835 - accuracy: 0.8367 - val_loss: 0.3623 - val_accuracy: 0.8340\n",
      "Epoch 10/40\n",
      "30/30 [==============================] - 2s 58ms/step - loss: 0.3478 - accuracy: 0.8713 - val_loss: 0.3454 - val_accuracy: 0.8720\n",
      "Epoch 11/40\n",
      "30/30 [==============================] - 2s 58ms/step - loss: 0.3444 - accuracy: 0.8720 - val_loss: 0.3545 - val_accuracy: 0.8760\n",
      "Epoch 12/40\n",
      "30/30 [==============================] - 2s 59ms/step - loss: 0.3176 - accuracy: 0.8940 - val_loss: 0.3264 - val_accuracy: 0.8860\n",
      "Epoch 13/40\n",
      "30/30 [==============================] - 2s 61ms/step - loss: 0.3035 - accuracy: 0.8913 - val_loss: 0.3228 - val_accuracy: 0.8700\n",
      "Epoch 14/40\n",
      "30/30 [==============================] - 2s 64ms/step - loss: 0.3208 - accuracy: 0.8760 - val_loss: 0.3472 - val_accuracy: 0.8660\n",
      "Epoch 15/40\n",
      "30/30 [==============================] - 2s 70ms/step - loss: 0.3066 - accuracy: 0.8913 - val_loss: 0.3006 - val_accuracy: 0.8840\n",
      "Epoch 16/40\n",
      "30/30 [==============================] - 2s 58ms/step - loss: 0.2726 - accuracy: 0.9127 - val_loss: 0.3190 - val_accuracy: 0.9200\n",
      "Epoch 17/40\n",
      "30/30 [==============================] - 2s 62ms/step - loss: 0.2772 - accuracy: 0.9007 - val_loss: 0.3050 - val_accuracy: 0.9360\n",
      "Epoch 18/40\n",
      "30/30 [==============================] - 2s 61ms/step - loss: 0.2666 - accuracy: 0.9100 - val_loss: 0.2681 - val_accuracy: 0.9000\n",
      "Epoch 19/40\n",
      "30/30 [==============================] - 2s 58ms/step - loss: 0.2465 - accuracy: 0.9273 - val_loss: 0.2586 - val_accuracy: 0.9000\n",
      "Epoch 20/40\n",
      "30/30 [==============================] - 2s 59ms/step - loss: 0.2434 - accuracy: 0.9260 - val_loss: 0.2649 - val_accuracy: 0.9140\n",
      "Epoch 21/40\n",
      "30/30 [==============================] - 2s 62ms/step - loss: 0.2440 - accuracy: 0.9227 - val_loss: 0.3060 - val_accuracy: 0.9080\n",
      "Epoch 22/40\n",
      "30/30 [==============================] - 2s 64ms/step - loss: 0.2324 - accuracy: 0.9313 - val_loss: 0.2571 - val_accuracy: 0.9420\n",
      "Epoch 23/40\n",
      "30/30 [==============================] - 2s 71ms/step - loss: 0.2264 - accuracy: 0.9313 - val_loss: 0.2315 - val_accuracy: 0.9200\n",
      "Epoch 24/40\n",
      "30/30 [==============================] - 2s 65ms/step - loss: 0.2191 - accuracy: 0.9380 - val_loss: 0.2381 - val_accuracy: 0.9120\n",
      "Epoch 25/40\n",
      "30/30 [==============================] - 2s 61ms/step - loss: 0.2124 - accuracy: 0.9407 - val_loss: 0.2298 - val_accuracy: 0.9420\n",
      "Epoch 26/40\n",
      "30/30 [==============================] - 2s 60ms/step - loss: 0.2167 - accuracy: 0.9313 - val_loss: 0.2206 - val_accuracy: 0.9340\n",
      "Epoch 27/40\n",
      "30/30 [==============================] - 2s 62ms/step - loss: 0.2037 - accuracy: 0.9487 - val_loss: 0.2151 - val_accuracy: 0.9240\n",
      "Epoch 28/40\n",
      "30/30 [==============================] - 2s 59ms/step - loss: 0.2112 - accuracy: 0.9360 - val_loss: 0.2364 - val_accuracy: 0.9040\n",
      "Epoch 29/40\n",
      "30/30 [==============================] - 2s 61ms/step - loss: 0.1920 - accuracy: 0.9473 - val_loss: 0.2081 - val_accuracy: 0.9420\n",
      "Epoch 30/40\n",
      "30/30 [==============================] - 2s 58ms/step - loss: 0.1864 - accuracy: 0.9473 - val_loss: 0.2161 - val_accuracy: 0.9380\n",
      "Epoch 31/40\n",
      "30/30 [==============================] - 2s 72ms/step - loss: 0.1871 - accuracy: 0.9420 - val_loss: 0.2072 - val_accuracy: 0.9440\n",
      "Epoch 32/40\n",
      "30/30 [==============================] - 2s 70ms/step - loss: 0.1865 - accuracy: 0.9420 - val_loss: 0.2171 - val_accuracy: 0.9420\n",
      "Epoch 33/40\n",
      "30/30 [==============================] - 2s 63ms/step - loss: 0.1711 - accuracy: 0.9560 - val_loss: 0.2008 - val_accuracy: 0.9420\n",
      "Epoch 34/40\n",
      "30/30 [==============================] - 2s 61ms/step - loss: 0.1764 - accuracy: 0.9513 - val_loss: 0.2166 - val_accuracy: 0.9180\n",
      "Epoch 35/40\n",
      "30/30 [==============================] - 2s 59ms/step - loss: 0.1886 - accuracy: 0.9447 - val_loss: 0.1977 - val_accuracy: 0.9400\n",
      "Epoch 36/40\n",
      "30/30 [==============================] - 2s 62ms/step - loss: 0.1932 - accuracy: 0.9407 - val_loss: 0.2230 - val_accuracy: 0.9300\n",
      "Epoch 37/40\n",
      "30/30 [==============================] - 2s 61ms/step - loss: 0.1925 - accuracy: 0.9367 - val_loss: 0.2347 - val_accuracy: 0.9020\n",
      "Epoch 38/40\n",
      "30/30 [==============================] - 2s 68ms/step - loss: 0.2006 - accuracy: 0.9293 - val_loss: 0.2423 - val_accuracy: 0.9240\n",
      "Epoch 39/40\n",
      "30/30 [==============================] - 2s 76ms/step - loss: 0.1683 - accuracy: 0.9507 - val_loss: 0.1922 - val_accuracy: 0.9500\n",
      "Epoch 40/40\n",
      "30/30 [==============================] - 2s 72ms/step - loss: 0.1684 - accuracy: 0.9500 - val_loss: 0.1962 - val_accuracy: 0.9440\n"
     ]
    },
    {
     "data": {
      "text/plain": [
       "<tensorflow.python.keras.callbacks.History at 0x1c99dcb33a0>"
      ]
     },
     "execution_count": 21,
     "metadata": {},
     "output_type": "execute_result"
    }
   ],
   "source": [
    "epochs = 40\n",
    "\n",
    "model.fit(train_tensors, train_targets, validation_data=(valid_tensors, valid_targets),\n",
    "          epochs=epochs, batch_size=50, verbose=1)"
   ]
  },
  {
   "cell_type": "markdown",
   "metadata": {},
   "source": [
    "# CNN : ajouts de couches de convolutions\n",
    "## 1 couche de concvolution"
   ]
  },
  {
   "cell_type": "code",
   "execution_count": 73,
   "metadata": {},
   "outputs": [
    {
     "name": "stdout",
     "output_type": "stream",
     "text": [
      "Model: \"sequential_27\"\n",
      "_________________________________________________________________\n",
      "Layer (type)                 Output Shape              Param #   \n",
      "=================================================================\n",
      "conv2d_83 (Conv2D)           (None, 200, 200, 8)       40        \n",
      "_________________________________________________________________\n",
      "max_pooling2d_83 (MaxPooling (None, 10, 10, 8)         0         \n",
      "_________________________________________________________________\n",
      "flatten_27 (Flatten)         (None, 800)               0         \n",
      "_________________________________________________________________\n",
      "dense_81 (Dense)             (None, 256)               205056    \n",
      "_________________________________________________________________\n",
      "dropout_83 (Dropout)         (None, 256)               0         \n",
      "_________________________________________________________________\n",
      "dense_82 (Dense)             (None, 128)               32896     \n",
      "_________________________________________________________________\n",
      "dense_83 (Dense)             (None, 1)                 129       \n",
      "=================================================================\n",
      "Total params: 238,121\n",
      "Trainable params: 238,121\n",
      "Non-trainable params: 0\n",
      "_________________________________________________________________\n"
     ]
    }
   ],
   "source": [
    "model = Sequential()\n",
    "\n",
    "model.add(Conv2D(filters=8, kernel_size=2, padding='same',\n",
    "                 activation='relu', input_shape=(200, 200,1)))\n",
    "model.add(MaxPooling2D(pool_size=20))\n",
    "\n",
    "\n",
    "model.add(Flatten())\n",
    "model.add(Dense(256, activation='relu'))\n",
    "model.add(Dropout(0.1))\n",
    "model.add(Dense(128, activation='relu'))\n",
    "model.add(Dense(1, activation='sigmoid'))\n",
    "\n",
    "model.summary()\n",
    "\n",
    "model.compile(optimizer=tf.keras.optimizers.Adam(learning_rate=0.001), loss=tf.keras.losses.BinaryCrossentropy(), metrics=['accuracy'])"
   ]
  },
  {
   "cell_type": "code",
   "execution_count": 74,
   "metadata": {},
   "outputs": [
    {
     "name": "stdout",
     "output_type": "stream",
     "text": [
      "Epoch 1/20\n",
      "30/30 [==============================] - 17s 574ms/step - loss: 0.5414 - accuracy: 0.7253 - val_loss: 0.4761 - val_accuracy: 0.7860\n",
      "Epoch 2/20\n",
      "30/30 [==============================] - 12s 415ms/step - loss: 0.4501 - accuracy: 0.7987 - val_loss: 0.4236 - val_accuracy: 0.7860\n",
      "Epoch 3/20\n",
      "30/30 [==============================] - 12s 409ms/step - loss: 0.3918 - accuracy: 0.8227 - val_loss: 0.3999 - val_accuracy: 0.8560\n",
      "Epoch 4/20\n",
      "30/30 [==============================] - 12s 405ms/step - loss: 0.3129 - accuracy: 0.8960 - val_loss: 0.2883 - val_accuracy: 0.9020\n",
      "Epoch 5/20\n",
      "30/30 [==============================] - 12s 400ms/step - loss: 0.2653 - accuracy: 0.9087 - val_loss: 0.2430 - val_accuracy: 0.9060\n",
      "Epoch 6/20\n",
      "30/30 [==============================] - 13s 418ms/step - loss: 0.2388 - accuracy: 0.9153 - val_loss: 0.2524 - val_accuracy: 0.9120\n",
      "Epoch 7/20\n",
      "30/30 [==============================] - 12s 412ms/step - loss: 0.2319 - accuracy: 0.9213 - val_loss: 0.2203 - val_accuracy: 0.9080\n",
      "Epoch 8/20\n",
      "30/30 [==============================] - 13s 427ms/step - loss: 0.2061 - accuracy: 0.9273 - val_loss: 0.1955 - val_accuracy: 0.9320\n",
      "Epoch 9/20\n",
      "30/30 [==============================] - 12s 415ms/step - loss: 0.1632 - accuracy: 0.9507 - val_loss: 0.1781 - val_accuracy: 0.9400\n",
      "Epoch 10/20\n",
      "30/30 [==============================] - 13s 444ms/step - loss: 0.1734 - accuracy: 0.9387 - val_loss: 0.1672 - val_accuracy: 0.9480\n",
      "Epoch 11/20\n",
      "30/30 [==============================] - 12s 404ms/step - loss: 0.1413 - accuracy: 0.9553 - val_loss: 0.1614 - val_accuracy: 0.9440\n",
      "Epoch 12/20\n",
      "30/30 [==============================] - 12s 415ms/step - loss: 0.1281 - accuracy: 0.9607 - val_loss: 0.2007 - val_accuracy: 0.9440\n",
      "Epoch 13/20\n",
      "30/30 [==============================] - 12s 415ms/step - loss: 0.1287 - accuracy: 0.9580 - val_loss: 0.1460 - val_accuracy: 0.9520\n",
      "Epoch 14/20\n",
      "30/30 [==============================] - 12s 401ms/step - loss: 0.1110 - accuracy: 0.9707 - val_loss: 0.1330 - val_accuracy: 0.9560\n",
      "Epoch 15/20\n",
      "30/30 [==============================] - 12s 404ms/step - loss: 0.1169 - accuracy: 0.9653 - val_loss: 0.1994 - val_accuracy: 0.9380\n",
      "Epoch 16/20\n",
      "30/30 [==============================] - 12s 409ms/step - loss: 0.1095 - accuracy: 0.9640 - val_loss: 0.1624 - val_accuracy: 0.9480\n",
      "Epoch 17/20\n",
      "30/30 [==============================] - 12s 396ms/step - loss: 0.0954 - accuracy: 0.9713 - val_loss: 0.1284 - val_accuracy: 0.9540\n",
      "Epoch 18/20\n",
      "30/30 [==============================] - 12s 388ms/step - loss: 0.0828 - accuracy: 0.9753 - val_loss: 0.1309 - val_accuracy: 0.9600\n",
      "Epoch 19/20\n",
      "30/30 [==============================] - 13s 422ms/step - loss: 0.0872 - accuracy: 0.9740 - val_loss: 0.1184 - val_accuracy: 0.9620\n",
      "Epoch 20/20\n",
      "30/30 [==============================] - 12s 384ms/step - loss: 0.0752 - accuracy: 0.9780 - val_loss: 0.1144 - val_accuracy: 0.9640\n"
     ]
    },
    {
     "data": {
      "text/plain": [
       "<tensorflow.python.keras.callbacks.History at 0x21d865a66d0>"
      ]
     },
     "execution_count": 74,
     "metadata": {},
     "output_type": "execute_result"
    }
   ],
   "source": [
    "epochs = 20\n",
    "\n",
    "model.fit(train_tensors, train_targets, validation_data=(valid_tensors, valid_targets),\n",
    "          epochs=epochs, batch_size=50, verbose=1)"
   ]
  },
  {
   "cell_type": "markdown",
   "metadata": {},
   "source": [
    "## 2 couches"
   ]
  },
  {
   "cell_type": "code",
   "execution_count": 52,
   "metadata": {},
   "outputs": [
    {
     "name": "stdout",
     "output_type": "stream",
     "text": [
      "Model: \"sequential_7\"\n",
      "_________________________________________________________________\n",
      "Layer (type)                 Output Shape              Param #   \n",
      "=================================================================\n",
      "conv2d_15 (Conv2D)           (None, 200, 200, 4)       20        \n",
      "_________________________________________________________________\n",
      "max_pooling2d_12 (MaxPooling (None, 40, 40, 4)         0         \n",
      "_________________________________________________________________\n",
      "conv2d_16 (Conv2D)           (None, 40, 40, 8)         136       \n",
      "_________________________________________________________________\n",
      "max_pooling2d_13 (MaxPooling (None, 10, 10, 8)         0         \n",
      "_________________________________________________________________\n",
      "dropout_17 (Dropout)         (None, 10, 10, 8)         0         \n",
      "_________________________________________________________________\n",
      "flatten_7 (Flatten)          (None, 800)               0         \n",
      "_________________________________________________________________\n",
      "dense_17 (Dense)             (None, 256)               205056    \n",
      "_________________________________________________________________\n",
      "dropout_18 (Dropout)         (None, 256)               0         \n",
      "_________________________________________________________________\n",
      "dense_18 (Dense)             (None, 128)               32896     \n",
      "_________________________________________________________________\n",
      "dense_19 (Dense)             (None, 1)                 129       \n",
      "=================================================================\n",
      "Total params: 238,237\n",
      "Trainable params: 238,237\n",
      "Non-trainable params: 0\n",
      "_________________________________________________________________\n"
     ]
    }
   ],
   "source": [
    "model = Sequential()\n",
    "\n",
    "model.add(Conv2D(filters=4, kernel_size=2, padding='same',\n",
    "                 activation='relu', input_shape=(200, 200,1)))\n",
    "model.add(MaxPooling2D(pool_size=5))\n",
    "\n",
    "model.add(Conv2D(filters=8, kernel_size=2, padding='same', activation='relu'))\n",
    "model.add(MaxPooling2D(pool_size=4))\n",
    "model.add(Dropout(0.1))\n",
    "\n",
    "model.add(Flatten())\n",
    "model.add(Dense(256, activation='relu'))\n",
    "model.add(Dropout(0.1))\n",
    "model.add(Dense(128, activation='relu'))\n",
    "model.add(Dense(1, activation='sigmoid'))\n",
    "\n",
    "model.summary()\n",
    "\n",
    "model.compile(optimizer=tf.keras.optimizers.Adam(learning_rate=0.001), loss=tf.keras.losses.BinaryCrossentropy(), metrics=['accuracy'])"
   ]
  },
  {
   "cell_type": "code",
   "execution_count": 53,
   "metadata": {},
   "outputs": [
    {
     "name": "stdout",
     "output_type": "stream",
     "text": [
      "Epoch 1/20\n",
      "30/30 [==============================] - 14s 468ms/step - loss: 0.5871 - accuracy: 0.6807 - val_loss: 0.4691 - val_accuracy: 0.7860\n",
      "Epoch 2/20\n",
      "30/30 [==============================] - 13s 432ms/step - loss: 0.4461 - accuracy: 0.7967 - val_loss: 0.4314 - val_accuracy: 0.8000\n",
      "Epoch 3/20\n",
      "30/30 [==============================] - 13s 425ms/step - loss: 0.3856 - accuracy: 0.8373 - val_loss: 0.3575 - val_accuracy: 0.8860\n",
      "Epoch 4/20\n",
      "30/30 [==============================] - 13s 427ms/step - loss: 0.3279 - accuracy: 0.8720 - val_loss: 0.3290 - val_accuracy: 0.8880\n",
      "Epoch 5/20\n",
      "30/30 [==============================] - 13s 443ms/step - loss: 0.3149 - accuracy: 0.8840 - val_loss: 0.2996 - val_accuracy: 0.9120\n",
      "Epoch 6/20\n",
      "30/30 [==============================] - 13s 423ms/step - loss: 0.2467 - accuracy: 0.9127 - val_loss: 0.2420 - val_accuracy: 0.9040\n",
      "Epoch 7/20\n",
      "30/30 [==============================] - 12s 415ms/step - loss: 0.2582 - accuracy: 0.9000 - val_loss: 0.2599 - val_accuracy: 0.9200\n",
      "Epoch 8/20\n",
      "30/30 [==============================] - 13s 425ms/step - loss: 0.2054 - accuracy: 0.9253 - val_loss: 0.2046 - val_accuracy: 0.9180\n",
      "Epoch 9/20\n",
      "30/30 [==============================] - 14s 452ms/step - loss: 0.1686 - accuracy: 0.9447 - val_loss: 0.1861 - val_accuracy: 0.9380\n",
      "Epoch 10/20\n",
      "30/30 [==============================] - 14s 461ms/step - loss: 0.1522 - accuracy: 0.9520 - val_loss: 0.1714 - val_accuracy: 0.9340\n",
      "Epoch 11/20\n",
      "30/30 [==============================] - 14s 454ms/step - loss: 0.1362 - accuracy: 0.9547 - val_loss: 0.1625 - val_accuracy: 0.9500\n",
      "Epoch 12/20\n",
      "30/30 [==============================] - 13s 450ms/step - loss: 0.1384 - accuracy: 0.9540 - val_loss: 0.1726 - val_accuracy: 0.9500\n",
      "Epoch 13/20\n",
      "30/30 [==============================] - 12s 414ms/step - loss: 0.1141 - accuracy: 0.9653 - val_loss: 0.1570 - val_accuracy: 0.9540\n",
      "Epoch 14/20\n",
      "30/30 [==============================] - 13s 424ms/step - loss: 0.1387 - accuracy: 0.9487 - val_loss: 0.1492 - val_accuracy: 0.9520\n",
      "Epoch 15/20\n",
      "30/30 [==============================] - 13s 419ms/step - loss: 0.1025 - accuracy: 0.9653 - val_loss: 0.1412 - val_accuracy: 0.9520\n",
      "Epoch 16/20\n",
      "30/30 [==============================] - 13s 436ms/step - loss: 0.0971 - accuracy: 0.9673 - val_loss: 0.1756 - val_accuracy: 0.9460\n",
      "Epoch 17/20\n",
      "30/30 [==============================] - 14s 470ms/step - loss: 0.0861 - accuracy: 0.9707 - val_loss: 0.1474 - val_accuracy: 0.9580\n",
      "Epoch 18/20\n",
      "30/30 [==============================] - 14s 458ms/step - loss: 0.0735 - accuracy: 0.9740 - val_loss: 0.1809 - val_accuracy: 0.9560\n",
      "Epoch 19/20\n",
      "30/30 [==============================] - 14s 451ms/step - loss: 0.0741 - accuracy: 0.9780 - val_loss: 0.1630 - val_accuracy: 0.9600\n",
      "Epoch 20/20\n",
      "30/30 [==============================] - 14s 451ms/step - loss: 0.0890 - accuracy: 0.9680 - val_loss: 0.2427 - val_accuracy: 0.9360\n"
     ]
    },
    {
     "data": {
      "text/plain": [
       "<tensorflow.python.keras.callbacks.History at 0x1c9a095e4f0>"
      ]
     },
     "execution_count": 53,
     "metadata": {},
     "output_type": "execute_result"
    }
   ],
   "source": [
    "epochs = 20\n",
    "\n",
    "model.fit(train_tensors, train_targets, validation_data=(valid_tensors, valid_targets),\n",
    "          epochs=epochs, batch_size=50, verbose=1)"
   ]
  },
  {
   "cell_type": "code",
   "execution_count": 54,
   "metadata": {},
   "outputs": [
    {
     "name": "stdout",
     "output_type": "stream",
     "text": [
      "Model: \"sequential_8\"\n",
      "_________________________________________________________________\n",
      "Layer (type)                 Output Shape              Param #   \n",
      "=================================================================\n",
      "conv2d_17 (Conv2D)           (None, 200, 200, 8)       40        \n",
      "_________________________________________________________________\n",
      "max_pooling2d_14 (MaxPooling (None, 33, 33, 8)         0         \n",
      "_________________________________________________________________\n",
      "conv2d_18 (Conv2D)           (None, 33, 33, 16)        528       \n",
      "_________________________________________________________________\n",
      "max_pooling2d_15 (MaxPooling (None, 6, 6, 16)          0         \n",
      "_________________________________________________________________\n",
      "dropout_19 (Dropout)         (None, 6, 6, 16)          0         \n",
      "_________________________________________________________________\n",
      "flatten_8 (Flatten)          (None, 576)               0         \n",
      "_________________________________________________________________\n",
      "dense_20 (Dense)             (None, 256)               147712    \n",
      "_________________________________________________________________\n",
      "dropout_20 (Dropout)         (None, 256)               0         \n",
      "_________________________________________________________________\n",
      "dense_21 (Dense)             (None, 128)               32896     \n",
      "_________________________________________________________________\n",
      "dense_22 (Dense)             (None, 1)                 129       \n",
      "=================================================================\n",
      "Total params: 181,305\n",
      "Trainable params: 181,305\n",
      "Non-trainable params: 0\n",
      "_________________________________________________________________\n"
     ]
    }
   ],
   "source": [
    "model = Sequential()\n",
    "\n",
    "model.add(Conv2D(filters=8, kernel_size=2, padding='same',\n",
    "                 activation='relu', input_shape=(200, 200,1)))\n",
    "model.add(MaxPooling2D(pool_size=6))\n",
    "\n",
    "model.add(Conv2D(filters=16, kernel_size=2, padding='same', activation='relu'))\n",
    "model.add(MaxPooling2D(pool_size=5))\n",
    "model.add(Dropout(0.1))\n",
    "\n",
    "model.add(Flatten())\n",
    "model.add(Dense(256, activation='relu'))\n",
    "model.add(Dropout(0.1))\n",
    "model.add(Dense(128, activation='relu'))\n",
    "model.add(Dense(1, activation='sigmoid'))\n",
    "\n",
    "model.summary()\n",
    "\n",
    "model.compile(optimizer=tf.keras.optimizers.Adam(learning_rate=0.001), loss=tf.keras.losses.BinaryCrossentropy(), metrics=['accuracy'])"
   ]
  },
  {
   "cell_type": "code",
   "execution_count": 55,
   "metadata": {},
   "outputs": [
    {
     "name": "stdout",
     "output_type": "stream",
     "text": [
      "Epoch 1/20\n",
      "30/30 [==============================] - 15s 494ms/step - loss: 0.5753 - accuracy: 0.6867 - val_loss: 0.4837 - val_accuracy: 0.7860\n",
      "Epoch 2/20\n",
      "30/30 [==============================] - 12s 410ms/step - loss: 0.4724 - accuracy: 0.7693 - val_loss: 0.4544 - val_accuracy: 0.7940\n",
      "Epoch 3/20\n",
      "30/30 [==============================] - 12s 414ms/step - loss: 0.4281 - accuracy: 0.7967 - val_loss: 0.4242 - val_accuracy: 0.8400\n",
      "Epoch 4/20\n",
      "30/30 [==============================] - 12s 404ms/step - loss: 0.3955 - accuracy: 0.8360 - val_loss: 0.3833 - val_accuracy: 0.8460\n",
      "Epoch 5/20\n",
      "30/30 [==============================] - 15s 497ms/step - loss: 0.3714 - accuracy: 0.8453 - val_loss: 0.3723 - val_accuracy: 0.8380\n",
      "Epoch 6/20\n",
      "30/30 [==============================] - 14s 464ms/step - loss: 0.3379 - accuracy: 0.8687 - val_loss: 0.3132 - val_accuracy: 0.8920\n",
      "Epoch 7/20\n",
      "30/30 [==============================] - 13s 420ms/step - loss: 0.2777 - accuracy: 0.9100 - val_loss: 0.2684 - val_accuracy: 0.9320\n",
      "Epoch 8/20\n",
      "30/30 [==============================] - 13s 421ms/step - loss: 0.2289 - accuracy: 0.9273 - val_loss: 0.2150 - val_accuracy: 0.9320\n",
      "Epoch 9/20\n",
      "30/30 [==============================] - 13s 419ms/step - loss: 0.1872 - accuracy: 0.9440 - val_loss: 0.1839 - val_accuracy: 0.9560\n",
      "Epoch 10/20\n",
      "30/30 [==============================] - 12s 415ms/step - loss: 0.1524 - accuracy: 0.9580 - val_loss: 0.1599 - val_accuracy: 0.9600\n",
      "Epoch 11/20\n",
      "30/30 [==============================] - 12s 414ms/step - loss: 0.1427 - accuracy: 0.9587 - val_loss: 0.1618 - val_accuracy: 0.9500\n",
      "Epoch 12/20\n",
      "30/30 [==============================] - 13s 419ms/step - loss: 0.1217 - accuracy: 0.9627 - val_loss: 0.1548 - val_accuracy: 0.9560\n",
      "Epoch 13/20\n",
      "30/30 [==============================] - 14s 454ms/step - loss: 0.1097 - accuracy: 0.9673 - val_loss: 0.1326 - val_accuracy: 0.9620\n",
      "Epoch 14/20\n",
      "30/30 [==============================] - 13s 437ms/step - loss: 0.0925 - accuracy: 0.9687 - val_loss: 0.1747 - val_accuracy: 0.9560\n",
      "Epoch 15/20\n",
      "30/30 [==============================] - 12s 415ms/step - loss: 0.1151 - accuracy: 0.9693 - val_loss: 0.1296 - val_accuracy: 0.9620\n",
      "Epoch 16/20\n",
      "30/30 [==============================] - 13s 424ms/step - loss: 0.1019 - accuracy: 0.9700 - val_loss: 0.1299 - val_accuracy: 0.9580\n",
      "Epoch 17/20\n",
      "30/30 [==============================] - 14s 469ms/step - loss: 0.0814 - accuracy: 0.9753 - val_loss: 0.1544 - val_accuracy: 0.9600\n",
      "Epoch 18/20\n",
      "30/30 [==============================] - 13s 444ms/step - loss: 0.0789 - accuracy: 0.9767 - val_loss: 0.1407 - val_accuracy: 0.9620\n",
      "Epoch 19/20\n",
      "30/30 [==============================] - 13s 422ms/step - loss: 0.0653 - accuracy: 0.9827 - val_loss: 0.1472 - val_accuracy: 0.9540\n",
      "Epoch 20/20\n",
      "30/30 [==============================] - 12s 416ms/step - loss: 0.0753 - accuracy: 0.9767 - val_loss: 0.1328 - val_accuracy: 0.9640\n"
     ]
    },
    {
     "data": {
      "text/plain": [
       "<tensorflow.python.keras.callbacks.History at 0x1c9a0755400>"
      ]
     },
     "execution_count": 55,
     "metadata": {},
     "output_type": "execute_result"
    }
   ],
   "source": [
    "epochs = 20\n",
    "\n",
    "model.fit(train_tensors, train_targets, validation_data=(valid_tensors, valid_targets),\n",
    "          epochs=epochs, batch_size=50, verbose=1)"
   ]
  },
  {
   "cell_type": "markdown",
   "metadata": {},
   "source": [
    "## 3 couches"
   ]
  },
  {
   "cell_type": "code",
   "execution_count": 69,
   "metadata": {},
   "outputs": [
    {
     "name": "stdout",
     "output_type": "stream",
     "text": [
      "Model: \"sequential_25\"\n",
      "_________________________________________________________________\n",
      "Layer (type)                 Output Shape              Param #   \n",
      "=================================================================\n",
      "conv2d_78 (Conv2D)           (None, 200, 200, 4)       20        \n",
      "_________________________________________________________________\n",
      "max_pooling2d_78 (MaxPooling (None, 66, 66, 4)         0         \n",
      "_________________________________________________________________\n",
      "conv2d_79 (Conv2D)           (None, 66, 66, 8)         136       \n",
      "_________________________________________________________________\n",
      "max_pooling2d_79 (MaxPooling (None, 22, 22, 8)         0         \n",
      "_________________________________________________________________\n",
      "dropout_78 (Dropout)         (None, 22, 22, 8)         0         \n",
      "_________________________________________________________________\n",
      "conv2d_80 (Conv2D)           (None, 22, 22, 16)        528       \n",
      "_________________________________________________________________\n",
      "max_pooling2d_80 (MaxPooling (None, 7, 7, 16)          0         \n",
      "_________________________________________________________________\n",
      "dropout_79 (Dropout)         (None, 7, 7, 16)          0         \n",
      "_________________________________________________________________\n",
      "flatten_25 (Flatten)         (None, 784)               0         \n",
      "_________________________________________________________________\n",
      "dense_75 (Dense)             (None, 256)               200960    \n",
      "_________________________________________________________________\n",
      "dropout_80 (Dropout)         (None, 256)               0         \n",
      "_________________________________________________________________\n",
      "dense_76 (Dense)             (None, 128)               32896     \n",
      "_________________________________________________________________\n",
      "dense_77 (Dense)             (None, 1)                 129       \n",
      "=================================================================\n",
      "Total params: 234,669\n",
      "Trainable params: 234,669\n",
      "Non-trainable params: 0\n",
      "_________________________________________________________________\n"
     ]
    }
   ],
   "source": [
    "model = Sequential()\n",
    "\n",
    "model.add(Conv2D(filters=4, kernel_size=2, padding='same',\n",
    "                 activation='relu', input_shape=(200, 200,1)))\n",
    "model.add(MaxPooling2D(pool_size=3))\n",
    "\n",
    "model.add(Conv2D(filters=8, kernel_size=2, padding='same', activation='relu'))\n",
    "model.add(MaxPooling2D(pool_size=3))\n",
    "model.add(Dropout(0.1))\n",
    "\n",
    "model.add(Conv2D(filters=16, kernel_size=2, padding='same', activation='relu'))\n",
    "model.add(MaxPooling2D(pool_size=3))\n",
    "model.add(Dropout(0.1))\n",
    "\n",
    "model.add(Flatten())\n",
    "model.add(Dense(256, activation='relu'))\n",
    "model.add(Dropout(0.1))\n",
    "model.add(Dense(128, activation='relu'))\n",
    "model.add(Dense(1, activation='sigmoid'))\n",
    "\n",
    "model.summary()\n",
    "\n",
    "model.compile(optimizer=tf.keras.optimizers.Adam(learning_rate=0.001), loss=tf.keras.losses.BinaryCrossentropy(), metrics=['accuracy'])"
   ]
  },
  {
   "cell_type": "code",
   "execution_count": 70,
   "metadata": {},
   "outputs": [
    {
     "name": "stdout",
     "output_type": "stream",
     "text": [
      "Epoch 1/20\n",
      "30/30 [==============================] - 17s 567ms/step - loss: 0.5699 - accuracy: 0.6980 - val_loss: 0.4659 - val_accuracy: 0.7860\n",
      "Epoch 2/20\n",
      "30/30 [==============================] - 15s 496ms/step - loss: 0.4664 - accuracy: 0.7760 - val_loss: 0.4496 - val_accuracy: 0.7980\n",
      "Epoch 3/20\n",
      "30/30 [==============================] - 14s 456ms/step - loss: 0.4316 - accuracy: 0.7927 - val_loss: 0.4253 - val_accuracy: 0.8160\n",
      "Epoch 4/20\n",
      "30/30 [==============================] - 14s 452ms/step - loss: 0.4142 - accuracy: 0.8053 - val_loss: 0.4047 - val_accuracy: 0.8240\n",
      "Epoch 5/20\n",
      "30/30 [==============================] - 14s 462ms/step - loss: 0.3911 - accuracy: 0.8447 - val_loss: 0.3852 - val_accuracy: 0.8720\n",
      "Epoch 6/20\n",
      "30/30 [==============================] - 15s 507ms/step - loss: 0.3720 - accuracy: 0.8613 - val_loss: 0.3584 - val_accuracy: 0.8860\n",
      "Epoch 7/20\n",
      "30/30 [==============================] - 15s 487ms/step - loss: 0.3238 - accuracy: 0.8880 - val_loss: 0.3120 - val_accuracy: 0.8840\n",
      "Epoch 8/20\n",
      "30/30 [==============================] - 15s 495ms/step - loss: 0.2971 - accuracy: 0.8980 - val_loss: 0.2717 - val_accuracy: 0.9040\n",
      "Epoch 9/20\n",
      "30/30 [==============================] - 15s 511ms/step - loss: 0.2482 - accuracy: 0.9133 - val_loss: 0.2392 - val_accuracy: 0.9120\n",
      "Epoch 10/20\n",
      "30/30 [==============================] - 14s 467ms/step - loss: 0.2289 - accuracy: 0.9213 - val_loss: 0.2192 - val_accuracy: 0.9140\n",
      "Epoch 11/20\n",
      "30/30 [==============================] - 14s 471ms/step - loss: 0.2041 - accuracy: 0.9340 - val_loss: 0.1994 - val_accuracy: 0.9260\n",
      "Epoch 12/20\n",
      "30/30 [==============================] - 15s 506ms/step - loss: 0.1846 - accuracy: 0.9393 - val_loss: 0.1983 - val_accuracy: 0.9380\n",
      "Epoch 13/20\n",
      "30/30 [==============================] - 16s 528ms/step - loss: 0.1740 - accuracy: 0.9433 - val_loss: 0.1685 - val_accuracy: 0.9520\n",
      "Epoch 14/20\n",
      "30/30 [==============================] - 16s 534ms/step - loss: 0.1621 - accuracy: 0.9513 - val_loss: 0.1577 - val_accuracy: 0.9540\n",
      "Epoch 15/20\n",
      "30/30 [==============================] - 16s 534ms/step - loss: 0.1458 - accuracy: 0.9553 - val_loss: 0.1543 - val_accuracy: 0.9560\n",
      "Epoch 16/20\n",
      "30/30 [==============================] - 15s 494ms/step - loss: 0.1575 - accuracy: 0.9487 - val_loss: 0.1643 - val_accuracy: 0.9540\n",
      "Epoch 17/20\n",
      "30/30 [==============================] - 16s 521ms/step - loss: 0.1428 - accuracy: 0.9527 - val_loss: 0.1820 - val_accuracy: 0.9400\n",
      "Epoch 18/20\n",
      "30/30 [==============================] - 15s 490ms/step - loss: 0.1304 - accuracy: 0.9560 - val_loss: 0.1366 - val_accuracy: 0.9600\n",
      "Epoch 19/20\n",
      "30/30 [==============================] - 15s 500ms/step - loss: 0.1162 - accuracy: 0.9667 - val_loss: 0.1493 - val_accuracy: 0.9480\n",
      "Epoch 20/20\n",
      "30/30 [==============================] - 15s 510ms/step - loss: 0.1091 - accuracy: 0.9633 - val_loss: 0.1297 - val_accuracy: 0.9600\n"
     ]
    },
    {
     "data": {
      "text/plain": [
       "<tensorflow.python.keras.callbacks.History at 0x21d84505130>"
      ]
     },
     "execution_count": 70,
     "metadata": {},
     "output_type": "execute_result"
    }
   ],
   "source": [
    "epochs = 20\n",
    "\n",
    "model.fit(train_tensors, train_targets, validation_data=(valid_tensors, valid_targets),\n",
    "          epochs=epochs, batch_size=50, verbose=1)"
   ]
  },
  {
   "cell_type": "markdown",
   "metadata": {},
   "source": [
    "## 4 couches"
   ]
  },
  {
   "cell_type": "code",
   "execution_count": 66,
   "metadata": {},
   "outputs": [
    {
     "name": "stdout",
     "output_type": "stream",
     "text": [
      "Model: \"sequential_23\"\n",
      "_________________________________________________________________\n",
      "Layer (type)                 Output Shape              Param #   \n",
      "=================================================================\n",
      "conv2d_69 (Conv2D)           (None, 200, 200, 4)       20        \n",
      "_________________________________________________________________\n",
      "max_pooling2d_69 (MaxPooling (None, 66, 66, 4)         0         \n",
      "_________________________________________________________________\n",
      "conv2d_70 (Conv2D)           (None, 66, 66, 8)         136       \n",
      "_________________________________________________________________\n",
      "max_pooling2d_70 (MaxPooling (None, 33, 33, 8)         0         \n",
      "_________________________________________________________________\n",
      "dropout_69 (Dropout)         (None, 33, 33, 8)         0         \n",
      "_________________________________________________________________\n",
      "conv2d_71 (Conv2D)           (None, 33, 33, 12)        396       \n",
      "_________________________________________________________________\n",
      "max_pooling2d_71 (MaxPooling (None, 16, 16, 12)        0         \n",
      "_________________________________________________________________\n",
      "dropout_70 (Dropout)         (None, 16, 16, 12)        0         \n",
      "_________________________________________________________________\n",
      "conv2d_72 (Conv2D)           (None, 16, 16, 16)        784       \n",
      "_________________________________________________________________\n",
      "max_pooling2d_72 (MaxPooling (None, 8, 8, 16)          0         \n",
      "_________________________________________________________________\n",
      "dropout_71 (Dropout)         (None, 8, 8, 16)          0         \n",
      "_________________________________________________________________\n",
      "flatten_23 (Flatten)         (None, 1024)              0         \n",
      "_________________________________________________________________\n",
      "dense_69 (Dense)             (None, 256)               262400    \n",
      "_________________________________________________________________\n",
      "dropout_72 (Dropout)         (None, 256)               0         \n",
      "_________________________________________________________________\n",
      "dense_70 (Dense)             (None, 128)               32896     \n",
      "_________________________________________________________________\n",
      "dense_71 (Dense)             (None, 1)                 129       \n",
      "=================================================================\n",
      "Total params: 296,761\n",
      "Trainable params: 296,761\n",
      "Non-trainable params: 0\n",
      "_________________________________________________________________\n"
     ]
    }
   ],
   "source": [
    "model = Sequential()\n",
    "\n",
    "model.add(Conv2D(filters=4, kernel_size=2, padding='same',\n",
    "                 activation='relu', input_shape=(200, 200,1)))\n",
    "model.add(MaxPooling2D(pool_size=3))\n",
    "\n",
    "model.add(Conv2D(filters=8, kernel_size=2, padding='same', activation='relu'))\n",
    "model.add(MaxPooling2D(pool_size=2))\n",
    "model.add(Dropout(0.1))\n",
    "\n",
    "model.add(Conv2D(filters=12, kernel_size=2, padding='same', activation='relu'))\n",
    "model.add(MaxPooling2D(pool_size=2))\n",
    "model.add(Dropout(0.1))\n",
    "\n",
    "model.add(Conv2D(filters=16, kernel_size=2, padding='same', activation='relu'))\n",
    "model.add(MaxPooling2D(pool_size=2))\n",
    "model.add(Dropout(0.1))\n",
    "\n",
    "model.add(Flatten())\n",
    "model.add(Dense(256, activation='relu'))\n",
    "model.add(Dropout(0.1))\n",
    "model.add(Dense(128, activation='relu'))\n",
    "model.add(Dense(1, activation='sigmoid'))\n",
    "\n",
    "model.summary()\n",
    "\n",
    "model.compile(optimizer=tf.keras.optimizers.Adam(learning_rate=0.001), loss=tf.keras.losses.BinaryCrossentropy(), metrics=['accuracy'])"
   ]
  },
  {
   "cell_type": "code",
   "execution_count": 67,
   "metadata": {},
   "outputs": [
    {
     "name": "stdout",
     "output_type": "stream",
     "text": [
      "Epoch 1/20\n",
      "30/30 [==============================] - 16s 540ms/step - loss: 0.5525 - accuracy: 0.7167 - val_loss: 0.5111 - val_accuracy: 0.7880\n",
      "Epoch 2/20\n",
      "30/30 [==============================] - 17s 556ms/step - loss: 0.4595 - accuracy: 0.7853 - val_loss: 0.4537 - val_accuracy: 0.7880\n",
      "Epoch 3/20\n",
      "30/30 [==============================] - 16s 533ms/step - loss: 0.4233 - accuracy: 0.7960 - val_loss: 0.4261 - val_accuracy: 0.8220\n",
      "Epoch 4/20\n",
      "30/30 [==============================] - 15s 503ms/step - loss: 0.4024 - accuracy: 0.8307 - val_loss: 0.3886 - val_accuracy: 0.9040\n",
      "Epoch 5/20\n",
      "30/30 [==============================] - 15s 489ms/step - loss: 0.3550 - accuracy: 0.8793 - val_loss: 0.3363 - val_accuracy: 0.9000\n",
      "Epoch 6/20\n",
      "30/30 [==============================] - 16s 531ms/step - loss: 0.2762 - accuracy: 0.9107 - val_loss: 0.2692 - val_accuracy: 0.9100\n",
      "Epoch 7/20\n",
      "30/30 [==============================] - 16s 524ms/step - loss: 0.2306 - accuracy: 0.9213 - val_loss: 0.2349 - val_accuracy: 0.9440\n",
      "Epoch 8/20\n",
      "30/30 [==============================] - 17s 553ms/step - loss: 0.2041 - accuracy: 0.9373 - val_loss: 0.2260 - val_accuracy: 0.9100\n",
      "Epoch 9/20\n",
      "30/30 [==============================] - 15s 494ms/step - loss: 0.1760 - accuracy: 0.9480 - val_loss: 0.1673 - val_accuracy: 0.9540\n",
      "Epoch 10/20\n",
      "30/30 [==============================] - 15s 492ms/step - loss: 0.1508 - accuracy: 0.9520 - val_loss: 0.2012 - val_accuracy: 0.9220\n",
      "Epoch 11/20\n",
      "30/30 [==============================] - 15s 503ms/step - loss: 0.1492 - accuracy: 0.9533 - val_loss: 0.1342 - val_accuracy: 0.9560\n",
      "Epoch 12/20\n",
      "30/30 [==============================] - 16s 534ms/step - loss: 0.1323 - accuracy: 0.9587 - val_loss: 0.1604 - val_accuracy: 0.9480\n",
      "Epoch 13/20\n",
      "30/30 [==============================] - 15s 499ms/step - loss: 0.1079 - accuracy: 0.9667 - val_loss: 0.1530 - val_accuracy: 0.9480\n",
      "Epoch 14/20\n",
      "30/30 [==============================] - 16s 526ms/step - loss: 0.1044 - accuracy: 0.9680 - val_loss: 0.1099 - val_accuracy: 0.9580\n",
      "Epoch 15/20\n",
      "30/30 [==============================] - 15s 495ms/step - loss: 0.0856 - accuracy: 0.9733 - val_loss: 0.1157 - val_accuracy: 0.9580\n",
      "Epoch 16/20\n",
      "30/30 [==============================] - 15s 507ms/step - loss: 0.0876 - accuracy: 0.9727 - val_loss: 0.1028 - val_accuracy: 0.9600\n",
      "Epoch 17/20\n",
      "30/30 [==============================] - 16s 531ms/step - loss: 0.0810 - accuracy: 0.9713 - val_loss: 0.1262 - val_accuracy: 0.9560\n",
      "Epoch 18/20\n",
      "30/30 [==============================] - 17s 550ms/step - loss: 0.0766 - accuracy: 0.9727 - val_loss: 0.1347 - val_accuracy: 0.9540\n",
      "Epoch 19/20\n",
      "30/30 [==============================] - 16s 536ms/step - loss: 0.0621 - accuracy: 0.9787 - val_loss: 0.0946 - val_accuracy: 0.9620\n",
      "Epoch 20/20\n",
      "30/30 [==============================] - 16s 523ms/step - loss: 0.0678 - accuracy: 0.9787 - val_loss: 0.1278 - val_accuracy: 0.9540\n"
     ]
    },
    {
     "data": {
      "text/plain": [
       "<tensorflow.python.keras.callbacks.History at 0x21d83b87d90>"
      ]
     },
     "execution_count": 67,
     "metadata": {},
     "output_type": "execute_result"
    }
   ],
   "source": [
    "epochs = 20\n",
    "\n",
    "model.fit(train_tensors, train_targets, validation_data=(valid_tensors, valid_targets),\n",
    "          epochs=epochs, batch_size=50, verbose=1)"
   ]
  },
  {
   "cell_type": "markdown",
   "metadata": {},
   "source": [
    "## 5 couches de convolution (kernel size = 2, stride = (1,1)) : meilleur modèle"
   ]
  },
  {
   "cell_type": "code",
   "execution_count": 13,
   "metadata": {},
   "outputs": [
    {
     "name": "stdout",
     "output_type": "stream",
     "text": [
      "Model: \"sequential\"\n",
      "_________________________________________________________________\n",
      "Layer (type)                 Output Shape              Param #   \n",
      "=================================================================\n",
      "conv2d (Conv2D)              (None, 200, 200, 4)       20        \n",
      "_________________________________________________________________\n",
      "max_pooling2d (MaxPooling2D) (None, 100, 100, 4)       0         \n",
      "_________________________________________________________________\n",
      "conv2d_1 (Conv2D)            (None, 100, 100, 8)       136       \n",
      "_________________________________________________________________\n",
      "max_pooling2d_1 (MaxPooling2 (None, 50, 50, 8)         0         \n",
      "_________________________________________________________________\n",
      "dropout (Dropout)            (None, 50, 50, 8)         0         \n",
      "_________________________________________________________________\n",
      "conv2d_2 (Conv2D)            (None, 50, 50, 12)        396       \n",
      "_________________________________________________________________\n",
      "max_pooling2d_2 (MaxPooling2 (None, 25, 25, 12)        0         \n",
      "_________________________________________________________________\n",
      "dropout_1 (Dropout)          (None, 25, 25, 12)        0         \n",
      "_________________________________________________________________\n",
      "conv2d_3 (Conv2D)            (None, 25, 25, 16)        784       \n",
      "_________________________________________________________________\n",
      "max_pooling2d_3 (MaxPooling2 (None, 12, 12, 16)        0         \n",
      "_________________________________________________________________\n",
      "dropout_2 (Dropout)          (None, 12, 12, 16)        0         \n",
      "_________________________________________________________________\n",
      "conv2d_4 (Conv2D)            (None, 12, 12, 20)        1300      \n",
      "_________________________________________________________________\n",
      "max_pooling2d_4 (MaxPooling2 (None, 6, 6, 20)          0         \n",
      "_________________________________________________________________\n",
      "dropout_3 (Dropout)          (None, 6, 6, 20)          0         \n",
      "_________________________________________________________________\n",
      "flatten (Flatten)            (None, 720)               0         \n",
      "_________________________________________________________________\n",
      "dense (Dense)                (None, 256)               184576    \n",
      "_________________________________________________________________\n",
      "dropout_4 (Dropout)          (None, 256)               0         \n",
      "_________________________________________________________________\n",
      "dense_1 (Dense)              (None, 128)               32896     \n",
      "_________________________________________________________________\n",
      "dense_2 (Dense)              (None, 1)                 129       \n",
      "=================================================================\n",
      "Total params: 220,237\n",
      "Trainable params: 220,237\n",
      "Non-trainable params: 0\n",
      "_________________________________________________________________\n"
     ]
    }
   ],
   "source": [
    "model = Sequential()\n",
    "\n",
    "model.add(Conv2D(filters=4, kernel_size=2, padding='same',\n",
    "                 activation='relu', input_shape=(200, 200,1)))\n",
    "model.add(MaxPooling2D(pool_size=2))\n",
    "model.add(Dropout(0.1))\n",
    "\n",
    "model.add(Conv2D(filters=8, kernel_size=2, padding='same', activation='relu'))\n",
    "model.add(MaxPooling2D(pool_size=2))\n",
    "model.add(Dropout(0.1))\n",
    "\n",
    "model.add(Conv2D(filters=12, kernel_size=2, padding='same', activation='relu'))\n",
    "model.add(MaxPooling2D(pool_size=2))\n",
    "model.add(Dropout(0.1))\n",
    "\n",
    "model.add(Conv2D(filters=16, kernel_size=2, padding='same', activation='relu'))\n",
    "model.add(MaxPooling2D(pool_size=2))\n",
    "model.add(Dropout(0.1))\n",
    "\n",
    "model.add(Conv2D(filters=20, kernel_size=2, padding='same', activation='relu'))\n",
    "model.add(MaxPooling2D(pool_size=2))\n",
    "model.add(Dropout(0.1))\n",
    "\n",
    "model.add(Flatten())\n",
    "model.add(Dense(256, activation='relu'))\n",
    "model.add(Dropout(0.1))\n",
    "model.add(Dense(128, activation='relu'))\n",
    "model.add(Dropout(0.1))\n",
    "model.add(Dense(1, activation='sigmoid'))\n",
    "\n",
    "model.summary()\n",
    "\n",
    "model.compile(optimizer=tf.keras.optimizers.Adam(learning_rate=0.001), loss=tf.keras.losses.BinaryCrossentropy(), metrics=['accuracy'])"
   ]
  },
  {
   "cell_type": "markdown",
   "metadata": {},
   "source": [
    "## Premier fit"
   ]
  },
  {
   "cell_type": "code",
   "execution_count": 25,
   "metadata": {},
   "outputs": [
    {
     "name": "stdout",
     "output_type": "stream",
     "text": [
      "Epoch 1/20\n",
      "30/30 [==============================] - 21s 708ms/step - loss: 0.5948 - accuracy: 0.6667 - val_loss: 0.4609 - val_accuracy: 0.7860\n",
      "Epoch 2/20\n",
      "30/30 [==============================] - 19s 637ms/step - loss: 0.4143 - accuracy: 0.8340 - val_loss: 0.3750 - val_accuracy: 0.8880\n",
      "Epoch 3/20\n",
      "30/30 [==============================] - 18s 611ms/step - loss: 0.3308 - accuracy: 0.8907 - val_loss: 0.3220 - val_accuracy: 0.9000\n",
      "Epoch 4/20\n",
      "30/30 [==============================] - 19s 621ms/step - loss: 0.2712 - accuracy: 0.9093 - val_loss: 0.2489 - val_accuracy: 0.9100\n",
      "Epoch 5/20\n",
      "30/30 [==============================] - 18s 616ms/step - loss: 0.2243 - accuracy: 0.9220 - val_loss: 0.2365 - val_accuracy: 0.9180\n",
      "Epoch 6/20\n",
      "30/30 [==============================] - 19s 618ms/step - loss: 0.2185 - accuracy: 0.9207 - val_loss: 0.2232 - val_accuracy: 0.9180\n",
      "Epoch 7/20\n",
      "30/30 [==============================] - 20s 656ms/step - loss: 0.2379 - accuracy: 0.9147 - val_loss: 0.2352 - val_accuracy: 0.9140\n",
      "Epoch 8/20\n",
      "30/30 [==============================] - 20s 652ms/step - loss: 0.2135 - accuracy: 0.9240 - val_loss: 0.2450 - val_accuracy: 0.9200\n",
      "Epoch 9/20\n",
      "30/30 [==============================] - 20s 659ms/step - loss: 0.2016 - accuracy: 0.9227 - val_loss: 0.2182 - val_accuracy: 0.9260\n",
      "Epoch 10/20\n",
      "30/30 [==============================] - 19s 634ms/step - loss: 0.1873 - accuracy: 0.9287 - val_loss: 0.1966 - val_accuracy: 0.9260\n",
      "Epoch 11/20\n",
      "30/30 [==============================] - 19s 627ms/step - loss: 0.1785 - accuracy: 0.9360 - val_loss: 0.1915 - val_accuracy: 0.9460\n",
      "Epoch 12/20\n",
      "30/30 [==============================] - 21s 691ms/step - loss: 0.1477 - accuracy: 0.9493 - val_loss: 0.1544 - val_accuracy: 0.9680\n",
      "Epoch 13/20\n",
      "30/30 [==============================] - 19s 646ms/step - loss: 0.1215 - accuracy: 0.9620 - val_loss: 0.1402 - val_accuracy: 0.9700\n",
      "Epoch 14/20\n",
      "30/30 [==============================] - 19s 637ms/step - loss: 0.1166 - accuracy: 0.9647 - val_loss: 0.1145 - val_accuracy: 0.9700\n",
      "Epoch 15/20\n",
      "30/30 [==============================] - 19s 623ms/step - loss: 0.1001 - accuracy: 0.9700 - val_loss: 0.1057 - val_accuracy: 0.9700\n",
      "Epoch 16/20\n",
      "30/30 [==============================] - 19s 626ms/step - loss: 0.1001 - accuracy: 0.9707 - val_loss: 0.1118 - val_accuracy: 0.9700\n",
      "Epoch 17/20\n",
      "30/30 [==============================] - 19s 644ms/step - loss: 0.0959 - accuracy: 0.9740 - val_loss: 0.1041 - val_accuracy: 0.9720\n",
      "Epoch 18/20\n",
      "30/30 [==============================] - 19s 642ms/step - loss: 0.0904 - accuracy: 0.9753 - val_loss: 0.1009 - val_accuracy: 0.9720\n",
      "Epoch 19/20\n",
      "30/30 [==============================] - 19s 622ms/step - loss: 0.0901 - accuracy: 0.9727 - val_loss: 0.1002 - val_accuracy: 0.9720\n",
      "Epoch 20/20\n",
      "30/30 [==============================] - 18s 612ms/step - loss: 0.0844 - accuracy: 0.9740 - val_loss: 0.0902 - val_accuracy: 0.9760\n"
     ]
    },
    {
     "data": {
      "text/plain": [
       "<tensorflow.python.keras.callbacks.History at 0x21de5d9c640>"
      ]
     },
     "execution_count": 25,
     "metadata": {},
     "output_type": "execute_result"
    }
   ],
   "source": [
    "epochs = 20\n",
    "\n",
    "model.fit(train_tensors, train_targets, validation_data=(valid_tensors, valid_targets),\n",
    "          epochs=epochs, batch_size=50, verbose=1)"
   ]
  },
  {
   "cell_type": "markdown",
   "metadata": {},
   "source": [
    "## Second fit"
   ]
  },
  {
   "cell_type": "code",
   "execution_count": 59,
   "metadata": {},
   "outputs": [
    {
     "name": "stdout",
     "output_type": "stream",
     "text": [
      "Epoch 1/20\n",
      "30/30 [==============================] - 20s 673ms/step - loss: 0.5644 - accuracy: 0.6767 - val_loss: 0.4678 - val_accuracy: 0.7860\n",
      "Epoch 2/20\n",
      "30/30 [==============================] - 19s 641ms/step - loss: 0.4353 - accuracy: 0.7933 - val_loss: 0.4294 - val_accuracy: 0.8060\n",
      "Epoch 3/20\n",
      "30/30 [==============================] - 19s 634ms/step - loss: 0.4010 - accuracy: 0.8187 - val_loss: 0.3950 - val_accuracy: 0.8240\n",
      "Epoch 4/20\n",
      "30/30 [==============================] - 18s 616ms/step - loss: 0.3614 - accuracy: 0.8427 - val_loss: 0.3743 - val_accuracy: 0.8640\n",
      "Epoch 5/20\n",
      "30/30 [==============================] - 19s 633ms/step - loss: 0.2711 - accuracy: 0.9093 - val_loss: 0.2373 - val_accuracy: 0.9380\n",
      "Epoch 6/20\n",
      "30/30 [==============================] - 19s 630ms/step - loss: 0.1958 - accuracy: 0.9353 - val_loss: 0.1682 - val_accuracy: 0.9540\n",
      "Epoch 7/20\n",
      "30/30 [==============================] - 20s 656ms/step - loss: 0.1451 - accuracy: 0.9600 - val_loss: 0.1432 - val_accuracy: 0.9500\n",
      "Epoch 8/20\n",
      "30/30 [==============================] - 18s 605ms/step - loss: 0.1140 - accuracy: 0.9667 - val_loss: 0.1370 - val_accuracy: 0.9640\n",
      "Epoch 9/20\n",
      "30/30 [==============================] - 18s 602ms/step - loss: 0.1066 - accuracy: 0.9647 - val_loss: 0.1512 - val_accuracy: 0.9580\n",
      "Epoch 10/20\n",
      "30/30 [==============================] - 18s 602ms/step - loss: 0.1067 - accuracy: 0.9687 - val_loss: 0.1164 - val_accuracy: 0.9700\n",
      "Epoch 11/20\n",
      "30/30 [==============================] - 18s 608ms/step - loss: 0.0908 - accuracy: 0.9700 - val_loss: 0.1256 - val_accuracy: 0.9620\n",
      "Epoch 12/20\n",
      "30/30 [==============================] - 18s 615ms/step - loss: 0.0777 - accuracy: 0.9713 - val_loss: 0.1126 - val_accuracy: 0.9680\n",
      "Epoch 13/20\n",
      "30/30 [==============================] - 18s 612ms/step - loss: 0.0756 - accuracy: 0.9780 - val_loss: 0.1144 - val_accuracy: 0.9680\n",
      "Epoch 14/20\n",
      "30/30 [==============================] - 19s 620ms/step - loss: 0.0749 - accuracy: 0.9733 - val_loss: 0.1171 - val_accuracy: 0.9640\n",
      "Epoch 15/20\n",
      "30/30 [==============================] - 19s 628ms/step - loss: 0.0651 - accuracy: 0.9807 - val_loss: 0.0985 - val_accuracy: 0.9700\n",
      "Epoch 16/20\n",
      "30/30 [==============================] - 18s 608ms/step - loss: 0.0547 - accuracy: 0.9813 - val_loss: 0.0986 - val_accuracy: 0.9680\n",
      "Epoch 17/20\n",
      "30/30 [==============================] - 18s 615ms/step - loss: 0.0494 - accuracy: 0.9820 - val_loss: 0.1101 - val_accuracy: 0.9680\n",
      "Epoch 18/20\n",
      "30/30 [==============================] - 18s 599ms/step - loss: 0.0541 - accuracy: 0.9827 - val_loss: 0.1068 - val_accuracy: 0.9680\n",
      "Epoch 19/20\n",
      "30/30 [==============================] - 18s 603ms/step - loss: 0.0409 - accuracy: 0.9867 - val_loss: 0.0972 - val_accuracy: 0.9700\n",
      "Epoch 20/20\n",
      "30/30 [==============================] - 19s 618ms/step - loss: 0.0432 - accuracy: 0.9853 - val_loss: 0.1011 - val_accuracy: 0.9700\n"
     ]
    },
    {
     "data": {
      "text/plain": [
       "<tensorflow.python.keras.callbacks.History at 0x1c9a15cc4f0>"
      ]
     },
     "execution_count": 59,
     "metadata": {},
     "output_type": "execute_result"
    }
   ],
   "source": [
    "epochs = 20\n",
    "\n",
    "from numpy.random import seed\n",
    "seed(42)\n",
    "\n",
    "model.fit(train_tensors, train_targets, validation_data=(valid_tensors, valid_targets),\n",
    "          epochs=epochs, batch_size=50, verbose=1)"
   ]
  },
  {
   "cell_type": "markdown",
   "metadata": {},
   "source": [
    "## Troisième fit"
   ]
  },
  {
   "cell_type": "code",
   "execution_count": 14,
   "metadata": {},
   "outputs": [
    {
     "name": "stdout",
     "output_type": "stream",
     "text": [
      "Epoch 1/20\n",
      "30/30 [==============================] - 25s 821ms/step - loss: 0.5954 - accuracy: 0.6540 - val_loss: 0.4964 - val_accuracy: 0.7860\n",
      "Epoch 2/20\n",
      "30/30 [==============================] - 19s 622ms/step - loss: 0.4500 - accuracy: 0.7853 - val_loss: 0.4603 - val_accuracy: 0.8240\n",
      "Epoch 3/20\n",
      "30/30 [==============================] - 18s 606ms/step - loss: 0.4207 - accuracy: 0.8033 - val_loss: 0.4369 - val_accuracy: 0.8240\n",
      "Epoch 4/20\n",
      "30/30 [==============================] - 19s 639ms/step - loss: 0.4187 - accuracy: 0.8067 - val_loss: 0.4421 - val_accuracy: 0.8300\n",
      "Epoch 5/20\n",
      "30/30 [==============================] - 19s 618ms/step - loss: 0.4142 - accuracy: 0.8007 - val_loss: 0.4221 - val_accuracy: 0.8240\n",
      "Epoch 6/20\n",
      "30/30 [==============================] - 19s 627ms/step - loss: 0.4062 - accuracy: 0.8087 - val_loss: 0.4457 - val_accuracy: 0.8240\n",
      "Epoch 7/20\n",
      "30/30 [==============================] - 19s 620ms/step - loss: 0.4035 - accuracy: 0.8100 - val_loss: 0.4312 - val_accuracy: 0.8380\n",
      "Epoch 8/20\n",
      "30/30 [==============================] - 19s 644ms/step - loss: 0.3957 - accuracy: 0.8267 - val_loss: 0.3933 - val_accuracy: 0.8280\n",
      "Epoch 9/20\n",
      "30/30 [==============================] - 19s 631ms/step - loss: 0.3538 - accuracy: 0.8587 - val_loss: 0.3431 - val_accuracy: 0.9140\n",
      "Epoch 10/20\n",
      "30/30 [==============================] - 18s 607ms/step - loss: 0.2939 - accuracy: 0.8927 - val_loss: 0.2293 - val_accuracy: 0.9420\n",
      "Epoch 11/20\n",
      "30/30 [==============================] - 21s 688ms/step - loss: 0.2033 - accuracy: 0.9387 - val_loss: 0.1886 - val_accuracy: 0.9540\n",
      "Epoch 12/20\n",
      "30/30 [==============================] - 19s 618ms/step - loss: 0.1746 - accuracy: 0.9493 - val_loss: 0.1690 - val_accuracy: 0.9560\n",
      "Epoch 13/20\n",
      "30/30 [==============================] - 18s 600ms/step - loss: 0.1604 - accuracy: 0.9493 - val_loss: 0.1556 - val_accuracy: 0.9500\n",
      "Epoch 14/20\n",
      "30/30 [==============================] - 18s 613ms/step - loss: 0.1241 - accuracy: 0.9613 - val_loss: 0.1328 - val_accuracy: 0.9620\n",
      "Epoch 15/20\n",
      "30/30 [==============================] - 18s 606ms/step - loss: 0.1292 - accuracy: 0.9600 - val_loss: 0.1608 - val_accuracy: 0.9500\n",
      "Epoch 16/20\n",
      "30/30 [==============================] - 19s 623ms/step - loss: 0.1098 - accuracy: 0.9687 - val_loss: 0.1338 - val_accuracy: 0.9640\n",
      "Epoch 17/20\n",
      "30/30 [==============================] - 18s 612ms/step - loss: 0.1005 - accuracy: 0.9707 - val_loss: 0.1371 - val_accuracy: 0.9620\n",
      "Epoch 18/20\n",
      "30/30 [==============================] - 18s 610ms/step - loss: 0.0921 - accuracy: 0.9727 - val_loss: 0.1186 - val_accuracy: 0.9660\n",
      "Epoch 19/20\n",
      "30/30 [==============================] - 18s 611ms/step - loss: 0.0902 - accuracy: 0.9707 - val_loss: 0.1488 - val_accuracy: 0.9540\n",
      "Epoch 20/20\n",
      "30/30 [==============================] - 19s 622ms/step - loss: 0.0846 - accuracy: 0.9747 - val_loss: 0.1322 - val_accuracy: 0.9660\n"
     ]
    },
    {
     "data": {
      "text/plain": [
       "<tensorflow.python.keras.callbacks.History at 0x19488e38670>"
      ]
     },
     "execution_count": 14,
     "metadata": {},
     "output_type": "execute_result"
    }
   ],
   "source": [
    "epochs = 20\n",
    "\n",
    "model.fit(train_tensors, train_targets, validation_data=(valid_tensors, valid_targets),\n",
    "          epochs=epochs, batch_size=50, verbose=1)"
   ]
  },
  {
   "cell_type": "markdown",
   "metadata": {},
   "source": [
    "## 5 couches, kernel-size = 3, stride = (1,1)"
   ]
  },
  {
   "cell_type": "code",
   "execution_count": 83,
   "metadata": {},
   "outputs": [
    {
     "name": "stdout",
     "output_type": "stream",
     "text": [
      "Model: \"sequential_34\"\n",
      "_________________________________________________________________\n",
      "Layer (type)                 Output Shape              Param #   \n",
      "=================================================================\n",
      "conv2d_84 (Conv2D)           (None, 200, 200, 4)       40        \n",
      "_________________________________________________________________\n",
      "max_pooling2d_90 (MaxPooling (None, 100, 100, 4)       0         \n",
      "_________________________________________________________________\n",
      "conv2d_85 (Conv2D)           (None, 100, 100, 8)       296       \n",
      "_________________________________________________________________\n",
      "max_pooling2d_91 (MaxPooling (None, 50, 50, 8)         0         \n",
      "_________________________________________________________________\n",
      "dropout_90 (Dropout)         (None, 50, 50, 8)         0         \n",
      "_________________________________________________________________\n",
      "conv2d_86 (Conv2D)           (None, 50, 50, 12)        876       \n",
      "_________________________________________________________________\n",
      "max_pooling2d_92 (MaxPooling (None, 25, 25, 12)        0         \n",
      "_________________________________________________________________\n",
      "dropout_91 (Dropout)         (None, 25, 25, 12)        0         \n",
      "_________________________________________________________________\n",
      "conv2d_87 (Conv2D)           (None, 25, 25, 16)        1744      \n",
      "_________________________________________________________________\n",
      "max_pooling2d_93 (MaxPooling (None, 12, 12, 16)        0         \n",
      "_________________________________________________________________\n",
      "dropout_92 (Dropout)         (None, 12, 12, 16)        0         \n",
      "_________________________________________________________________\n",
      "conv2d_88 (Conv2D)           (None, 12, 12, 20)        2900      \n",
      "_________________________________________________________________\n",
      "max_pooling2d_94 (MaxPooling (None, 6, 6, 20)          0         \n",
      "_________________________________________________________________\n",
      "dropout_93 (Dropout)         (None, 6, 6, 20)          0         \n",
      "_________________________________________________________________\n",
      "flatten_34 (Flatten)         (None, 720)               0         \n",
      "_________________________________________________________________\n",
      "dense_102 (Dense)            (None, 256)               184576    \n",
      "_________________________________________________________________\n",
      "dropout_94 (Dropout)         (None, 256)               0         \n",
      "_________________________________________________________________\n",
      "dense_103 (Dense)            (None, 128)               32896     \n",
      "_________________________________________________________________\n",
      "dense_104 (Dense)            (None, 1)                 129       \n",
      "=================================================================\n",
      "Total params: 223,457\n",
      "Trainable params: 223,457\n",
      "Non-trainable params: 0\n",
      "_________________________________________________________________\n"
     ]
    }
   ],
   "source": [
    "model = Sequential()\n",
    "\n",
    "model.add(Conv2D(filters=4, kernel_size=3, padding='same',\n",
    "                 activation='relu', input_shape=(200, 200,1)))\n",
    "model.add(MaxPooling2D(pool_size=2))\n",
    "\n",
    "model.add(Conv2D(filters=8, kernel_size=3, padding='same', activation='relu'))\n",
    "model.add(MaxPooling2D(pool_size=2))\n",
    "model.add(Dropout(0.1))\n",
    "\n",
    "model.add(Conv2D(filters=12, kernel_size=3, padding='same', activation='relu'))\n",
    "model.add(MaxPooling2D(pool_size=2))\n",
    "model.add(Dropout(0.1))\n",
    "\n",
    "model.add(Conv2D(filters=16, kernel_size=3, padding='same', activation='relu'))\n",
    "model.add(MaxPooling2D(pool_size=2))\n",
    "model.add(Dropout(0.1))\n",
    "\n",
    "model.add(Conv2D(filters=20, kernel_size=3, padding='same', activation='relu'))\n",
    "model.add(MaxPooling2D(pool_size=2))\n",
    "model.add(Dropout(0.1))\n",
    "\n",
    "model.add(Flatten())\n",
    "model.add(Dense(256, activation='relu'))\n",
    "model.add(Dropout(0.1))\n",
    "model.add(Dense(128, activation='relu'))\n",
    "model.add(Dense(1, activation='sigmoid'))\n",
    "\n",
    "model.summary()\n",
    "\n",
    "model.compile(optimizer=tf.keras.optimizers.Adam(learning_rate=0.001), loss=tf.keras.losses.BinaryCrossentropy(), metrics=['accuracy'])"
   ]
  },
  {
   "cell_type": "code",
   "execution_count": 84,
   "metadata": {},
   "outputs": [
    {
     "name": "stdout",
     "output_type": "stream",
     "text": [
      "Epoch 1/20\n",
      "30/30 [==============================] - 29s 960ms/step - loss: 0.5876 - accuracy: 0.6773 - val_loss: 0.4614 - val_accuracy: 0.7860\n",
      "Epoch 2/20\n",
      "30/30 [==============================] - 26s 876ms/step - loss: 0.4214 - accuracy: 0.8080 - val_loss: 0.3725 - val_accuracy: 0.8680\n",
      "Epoch 3/20\n",
      "30/30 [==============================] - 26s 870ms/step - loss: 0.3121 - accuracy: 0.8933 - val_loss: 0.2905 - val_accuracy: 0.9020\n",
      "Epoch 4/20\n",
      "30/30 [==============================] - 25s 848ms/step - loss: 0.2822 - accuracy: 0.9013 - val_loss: 0.2804 - val_accuracy: 0.9020\n",
      "Epoch 5/20\n",
      "30/30 [==============================] - 25s 842ms/step - loss: 0.2449 - accuracy: 0.9173 - val_loss: 0.2326 - val_accuracy: 0.9140\n",
      "Epoch 6/20\n",
      "30/30 [==============================] - 25s 834ms/step - loss: 0.2213 - accuracy: 0.9220 - val_loss: 0.2338 - val_accuracy: 0.9160\n",
      "Epoch 7/20\n",
      "30/30 [==============================] - 26s 854ms/step - loss: 0.2016 - accuracy: 0.9253 - val_loss: 0.2250 - val_accuracy: 0.9440\n",
      "Epoch 8/20\n",
      "30/30 [==============================] - 25s 842ms/step - loss: 0.1896 - accuracy: 0.9287 - val_loss: 0.1771 - val_accuracy: 0.9420\n",
      "Epoch 9/20\n",
      "30/30 [==============================] - 24s 815ms/step - loss: 0.1483 - accuracy: 0.9480 - val_loss: 0.1512 - val_accuracy: 0.9620\n",
      "Epoch 10/20\n",
      "30/30 [==============================] - 27s 915ms/step - loss: 0.1300 - accuracy: 0.9667 - val_loss: 0.1283 - val_accuracy: 0.9660\n",
      "Epoch 11/20\n",
      "30/30 [==============================] - 25s 835ms/step - loss: 0.1201 - accuracy: 0.9633 - val_loss: 0.1353 - val_accuracy: 0.9660\n",
      "Epoch 12/20\n",
      "30/30 [==============================] - 27s 892ms/step - loss: 0.0822 - accuracy: 0.9773 - val_loss: 0.1222 - val_accuracy: 0.9680\n",
      "Epoch 13/20\n",
      "30/30 [==============================] - 26s 859ms/step - loss: 0.0835 - accuracy: 0.9733 - val_loss: 0.1572 - val_accuracy: 0.9600\n",
      "Epoch 14/20\n",
      "30/30 [==============================] - 25s 849ms/step - loss: 0.0859 - accuracy: 0.9747 - val_loss: 0.1168 - val_accuracy: 0.9640\n",
      "Epoch 15/20\n",
      "30/30 [==============================] - 27s 906ms/step - loss: 0.0685 - accuracy: 0.9793 - val_loss: 0.1144 - val_accuracy: 0.9680\n",
      "Epoch 16/20\n",
      "30/30 [==============================] - 25s 835ms/step - loss: 0.0614 - accuracy: 0.9807 - val_loss: 0.1242 - val_accuracy: 0.9680\n",
      "Epoch 17/20\n",
      "30/30 [==============================] - 23s 763ms/step - loss: 0.0526 - accuracy: 0.9853 - val_loss: 0.1186 - val_accuracy: 0.9660\n",
      "Epoch 18/20\n",
      "30/30 [==============================] - 25s 820ms/step - loss: 0.0538 - accuracy: 0.9820 - val_loss: 0.1206 - val_accuracy: 0.9660\n",
      "Epoch 19/20\n",
      "30/30 [==============================] - 25s 841ms/step - loss: 0.0541 - accuracy: 0.9813 - val_loss: 0.1470 - val_accuracy: 0.9660\n",
      "Epoch 20/20\n",
      "30/30 [==============================] - 24s 807ms/step - loss: 0.0546 - accuracy: 0.9853 - val_loss: 0.0887 - val_accuracy: 0.9740\n"
     ]
    },
    {
     "data": {
      "text/plain": [
       "<tensorflow.python.keras.callbacks.History at 0x21d871aa6a0>"
      ]
     },
     "execution_count": 84,
     "metadata": {},
     "output_type": "execute_result"
    }
   ],
   "source": [
    "epochs = 20\n",
    "\n",
    "model.fit(train_tensors, train_targets, validation_data=(valid_tensors, valid_targets),\n",
    "          epochs=epochs, batch_size=50, verbose=1)"
   ]
  },
  {
   "cell_type": "markdown",
   "metadata": {},
   "source": [
    "## 5 couches avec kernel = 2, mais pas de maxpooling, on met un 'stride' de (2,2) pour réduire la dimension"
   ]
  },
  {
   "cell_type": "code",
   "execution_count": 22,
   "metadata": {},
   "outputs": [
    {
     "name": "stdout",
     "output_type": "stream",
     "text": [
      "Model: \"sequential_4\"\n",
      "_________________________________________________________________\n",
      "Layer (type)                 Output Shape              Param #   \n",
      "=================================================================\n",
      "conv2d (Conv2D)              (None, 100, 100, 4)       20        \n",
      "_________________________________________________________________\n",
      "conv2d_1 (Conv2D)            (None, 50, 50, 8)         136       \n",
      "_________________________________________________________________\n",
      "dropout_2 (Dropout)          (None, 50, 50, 8)         0         \n",
      "_________________________________________________________________\n",
      "conv2d_2 (Conv2D)            (None, 25, 25, 12)        396       \n",
      "_________________________________________________________________\n",
      "dropout_3 (Dropout)          (None, 25, 25, 12)        0         \n",
      "_________________________________________________________________\n",
      "conv2d_3 (Conv2D)            (None, 13, 13, 16)        784       \n",
      "_________________________________________________________________\n",
      "dropout_4 (Dropout)          (None, 13, 13, 16)        0         \n",
      "_________________________________________________________________\n",
      "conv2d_4 (Conv2D)            (None, 7, 7, 20)          1300      \n",
      "_________________________________________________________________\n",
      "dropout_5 (Dropout)          (None, 7, 7, 20)          0         \n",
      "_________________________________________________________________\n",
      "flatten_4 (Flatten)          (None, 980)               0         \n",
      "_________________________________________________________________\n",
      "dense_8 (Dense)              (None, 256)               251136    \n",
      "_________________________________________________________________\n",
      "dropout_6 (Dropout)          (None, 256)               0         \n",
      "_________________________________________________________________\n",
      "dense_9 (Dense)              (None, 128)               32896     \n",
      "_________________________________________________________________\n",
      "dense_10 (Dense)             (None, 1)                 129       \n",
      "=================================================================\n",
      "Total params: 286,797\n",
      "Trainable params: 286,797\n",
      "Non-trainable params: 0\n",
      "_________________________________________________________________\n"
     ]
    }
   ],
   "source": [
    "model = Sequential()\n",
    "\n",
    "model.add(Conv2D(filters=4, kernel_size=2, strides= (2,2),padding='same',\n",
    "                 activation='relu', input_shape=(200, 200,1)))\n",
    "\n",
    "model.add(Conv2D(filters=8, kernel_size=2, strides= (2,2),padding='same', activation='relu'))\n",
    "model.add(Dropout(0.1))\n",
    "\n",
    "model.add(Conv2D(filters=12, kernel_size=2, strides= (2,2),padding='same', activation='relu'))\n",
    "model.add(Dropout(0.1))\n",
    "\n",
    "model.add(Conv2D(filters=16, kernel_size=2, strides= (2,2),padding='same', activation='relu'))\n",
    "model.add(Dropout(0.1))\n",
    "\n",
    "model.add(Conv2D(filters=20, kernel_size=2, strides= (2,2),padding='same', activation='relu'))\n",
    "model.add(Dropout(0.1))\n",
    "\n",
    "model.add(Flatten())\n",
    "model.add(Dense(256, activation='relu'))\n",
    "model.add(Dropout(0.1))\n",
    "model.add(Dense(128, activation='relu'))\n",
    "model.add(Dense(1, activation='sigmoid'))\n",
    "\n",
    "model.summary()\n",
    "\n",
    "model.compile(optimizer=tf.keras.optimizers.Adam(learning_rate=0.001), loss=tf.keras.losses.BinaryCrossentropy(), metrics=['accuracy'])"
   ]
  },
  {
   "cell_type": "code",
   "execution_count": 23,
   "metadata": {},
   "outputs": [
    {
     "name": "stdout",
     "output_type": "stream",
     "text": [
      "Epoch 1/20\n",
      "30/30 [==============================] - 7s 234ms/step - loss: 0.5087 - accuracy: 0.7400 - val_loss: 0.4496 - val_accuracy: 0.8020\n",
      "Epoch 2/20\n",
      "30/30 [==============================] - 5s 171ms/step - loss: 0.4286 - accuracy: 0.7967 - val_loss: 0.4149 - val_accuracy: 0.8240\n",
      "Epoch 3/20\n",
      "30/30 [==============================] - 5s 161ms/step - loss: 0.4174 - accuracy: 0.8013 - val_loss: 0.4259 - val_accuracy: 0.8240\n",
      "Epoch 4/20\n",
      "30/30 [==============================] - 4s 145ms/step - loss: 0.4110 - accuracy: 0.8067 - val_loss: 0.4125 - val_accuracy: 0.8240\n",
      "Epoch 5/20\n",
      "30/30 [==============================] - 5s 158ms/step - loss: 0.4076 - accuracy: 0.8113 - val_loss: 0.4096 - val_accuracy: 0.8240\n",
      "Epoch 6/20\n",
      "30/30 [==============================] - 5s 166ms/step - loss: 0.4075 - accuracy: 0.8147 - val_loss: 0.4107 - val_accuracy: 0.8240\n",
      "Epoch 7/20\n",
      "30/30 [==============================] - 5s 156ms/step - loss: 0.4003 - accuracy: 0.8207 - val_loss: 0.3900 - val_accuracy: 0.8240\n",
      "Epoch 8/20\n",
      "30/30 [==============================] - 5s 159ms/step - loss: 0.3888 - accuracy: 0.8247 - val_loss: 0.4099 - val_accuracy: 0.8100\n",
      "Epoch 9/20\n",
      "30/30 [==============================] - 5s 177ms/step - loss: 0.3686 - accuracy: 0.8507 - val_loss: 0.3626 - val_accuracy: 0.8840\n",
      "Epoch 10/20\n",
      "30/30 [==============================] - 5s 163ms/step - loss: 0.3496 - accuracy: 0.8613 - val_loss: 0.3202 - val_accuracy: 0.9000\n",
      "Epoch 11/20\n",
      "30/30 [==============================] - 5s 159ms/step - loss: 0.3026 - accuracy: 0.8847 - val_loss: 0.2584 - val_accuracy: 0.9160\n",
      "Epoch 12/20\n",
      "30/30 [==============================] - 5s 170ms/step - loss: 0.2495 - accuracy: 0.9073 - val_loss: 0.2059 - val_accuracy: 0.9500\n",
      "Epoch 13/20\n",
      "30/30 [==============================] - 4s 149ms/step - loss: 0.2006 - accuracy: 0.9347 - val_loss: 0.2209 - val_accuracy: 0.9500\n",
      "Epoch 14/20\n",
      "30/30 [==============================] - 4s 148ms/step - loss: 0.1598 - accuracy: 0.9513 - val_loss: 0.1837 - val_accuracy: 0.9500\n",
      "Epoch 15/20\n",
      "30/30 [==============================] - 5s 166ms/step - loss: 0.1545 - accuracy: 0.9500 - val_loss: 0.1724 - val_accuracy: 0.9520\n",
      "Epoch 16/20\n",
      "30/30 [==============================] - 5s 158ms/step - loss: 0.1576 - accuracy: 0.9533 - val_loss: 0.1699 - val_accuracy: 0.9520\n",
      "Epoch 17/20\n",
      "30/30 [==============================] - 4s 148ms/step - loss: 0.1410 - accuracy: 0.9560 - val_loss: 0.1711 - val_accuracy: 0.9540\n",
      "Epoch 18/20\n",
      "30/30 [==============================] - 5s 162ms/step - loss: 0.1323 - accuracy: 0.9587 - val_loss: 0.1710 - val_accuracy: 0.9560\n",
      "Epoch 19/20\n",
      "30/30 [==============================] - 5s 160ms/step - loss: 0.1248 - accuracy: 0.9627 - val_loss: 0.1594 - val_accuracy: 0.9540\n",
      "Epoch 20/20\n",
      "30/30 [==============================] - 5s 151ms/step - loss: 0.1233 - accuracy: 0.9587 - val_loss: 0.1577 - val_accuracy: 0.9580\n"
     ]
    },
    {
     "data": {
      "text/plain": [
       "<tensorflow.python.keras.callbacks.History at 0x1c99e28bd30>"
      ]
     },
     "execution_count": 23,
     "metadata": {},
     "output_type": "execute_result"
    }
   ],
   "source": [
    "epochs = 20\n",
    "\n",
    "model.fit(train_tensors, train_targets, validation_data=(valid_tensors, valid_targets),\n",
    "          epochs=epochs, batch_size=50, verbose=1)"
   ]
  },
  {
   "cell_type": "markdown",
   "metadata": {},
   "source": [
    "## 6 couches"
   ]
  },
  {
   "cell_type": "code",
   "execution_count": 37,
   "metadata": {},
   "outputs": [
    {
     "name": "stdout",
     "output_type": "stream",
     "text": [
      "Model: \"sequential_3\"\n",
      "_________________________________________________________________\n",
      "Layer (type)                 Output Shape              Param #   \n",
      "=================================================================\n",
      "conv2d_16 (Conv2D)           (None, 200, 200, 4)       20        \n",
      "_________________________________________________________________\n",
      "max_pooling2d_16 (MaxPooling (None, 100, 100, 4)       0         \n",
      "_________________________________________________________________\n",
      "conv2d_17 (Conv2D)           (None, 100, 100, 8)       136       \n",
      "_________________________________________________________________\n",
      "max_pooling2d_17 (MaxPooling (None, 50, 50, 8)         0         \n",
      "_________________________________________________________________\n",
      "dropout_16 (Dropout)         (None, 50, 50, 8)         0         \n",
      "_________________________________________________________________\n",
      "conv2d_18 (Conv2D)           (None, 50, 50, 12)        396       \n",
      "_________________________________________________________________\n",
      "max_pooling2d_18 (MaxPooling (None, 25, 25, 12)        0         \n",
      "_________________________________________________________________\n",
      "dropout_17 (Dropout)         (None, 25, 25, 12)        0         \n",
      "_________________________________________________________________\n",
      "conv2d_19 (Conv2D)           (None, 25, 25, 16)        784       \n",
      "_________________________________________________________________\n",
      "max_pooling2d_19 (MaxPooling (None, 12, 12, 16)        0         \n",
      "_________________________________________________________________\n",
      "dropout_18 (Dropout)         (None, 12, 12, 16)        0         \n",
      "_________________________________________________________________\n",
      "conv2d_20 (Conv2D)           (None, 12, 12, 20)        1300      \n",
      "_________________________________________________________________\n",
      "max_pooling2d_20 (MaxPooling (None, 6, 6, 20)          0         \n",
      "_________________________________________________________________\n",
      "dropout_19 (Dropout)         (None, 6, 6, 20)          0         \n",
      "_________________________________________________________________\n",
      "conv2d_21 (Conv2D)           (None, 6, 6, 24)          1944      \n",
      "_________________________________________________________________\n",
      "max_pooling2d_21 (MaxPooling (None, 3, 3, 24)          0         \n",
      "_________________________________________________________________\n",
      "dropout_20 (Dropout)         (None, 3, 3, 24)          0         \n",
      "_________________________________________________________________\n",
      "flatten_3 (Flatten)          (None, 216)               0         \n",
      "_________________________________________________________________\n",
      "dense_9 (Dense)              (None, 216)               46872     \n",
      "_________________________________________________________________\n",
      "dropout_21 (Dropout)         (None, 216)               0         \n",
      "_________________________________________________________________\n",
      "dense_10 (Dense)             (None, 108)               23436     \n",
      "_________________________________________________________________\n",
      "dense_11 (Dense)             (None, 1)                 109       \n",
      "=================================================================\n",
      "Total params: 74,997\n",
      "Trainable params: 74,997\n",
      "Non-trainable params: 0\n",
      "_________________________________________________________________\n"
     ]
    }
   ],
   "source": [
    "model = Sequential()\n",
    "\n",
    "model.add(Conv2D(filters=4, kernel_size=2, padding='same',\n",
    "                 activation='relu', input_shape=(200, 200,1)))\n",
    "model.add(MaxPooling2D(pool_size=2))\n",
    "\n",
    "model.add(Conv2D(filters=8, kernel_size=2, padding='same', activation='relu'))\n",
    "model.add(MaxPooling2D(pool_size=2))\n",
    "model.add(Dropout(0.1))\n",
    "\n",
    "model.add(Conv2D(filters=12, kernel_size=2, padding='same', activation='relu'))\n",
    "model.add(MaxPooling2D(pool_size=2))\n",
    "model.add(Dropout(0.1))\n",
    "\n",
    "model.add(Conv2D(filters=16, kernel_size=2, padding='same', activation='relu'))\n",
    "model.add(MaxPooling2D(pool_size=2))\n",
    "model.add(Dropout(0.1))\n",
    "\n",
    "model.add(Conv2D(filters=20, kernel_size=2, padding='same', activation='relu'))\n",
    "model.add(MaxPooling2D(pool_size=2))\n",
    "model.add(Dropout(0.1))\n",
    "\n",
    "model.add(Conv2D(filters=24, kernel_size=2, padding='same', activation='relu'))\n",
    "model.add(MaxPooling2D(pool_size=2))\n",
    "model.add(Dropout(0.1))\n",
    "\n",
    "model.add(Flatten())\n",
    "model.add(Dense(216, activation='relu'))\n",
    "model.add(Dropout(0.1))\n",
    "model.add(Dense(108, activation='relu'))\n",
    "model.add(Dense(1, activation='sigmoid'))\n",
    "\n",
    "model.summary()\n",
    "\n",
    "model.compile(optimizer=tf.keras.optimizers.Adam(learning_rate=0.001), loss=tf.keras.losses.BinaryCrossentropy(), metrics=['accuracy'])"
   ]
  },
  {
   "cell_type": "code",
   "execution_count": 38,
   "metadata": {},
   "outputs": [
    {
     "name": "stdout",
     "output_type": "stream",
     "text": [
      "Epoch 1/20\n",
      "30/30 [==============================] - 23s 750ms/step - loss: 0.6563 - accuracy: 0.6247 - val_loss: 0.6374 - val_accuracy: 0.5960\n",
      "Epoch 2/20\n",
      "30/30 [==============================] - 19s 639ms/step - loss: 0.5478 - accuracy: 0.7120 - val_loss: 0.4886 - val_accuracy: 0.7840\n",
      "Epoch 3/20\n",
      "30/30 [==============================] - 19s 643ms/step - loss: 0.4748 - accuracy: 0.7660 - val_loss: 0.4698 - val_accuracy: 0.7900\n",
      "Epoch 4/20\n",
      "30/30 [==============================] - 19s 617ms/step - loss: 0.4450 - accuracy: 0.7960 - val_loss: 0.4557 - val_accuracy: 0.8060\n",
      "Epoch 5/20\n",
      "30/30 [==============================] - 18s 605ms/step - loss: 0.4299 - accuracy: 0.8013 - val_loss: 0.4415 - val_accuracy: 0.8200\n",
      "Epoch 6/20\n",
      "30/30 [==============================] - 19s 644ms/step - loss: 0.4186 - accuracy: 0.8067 - val_loss: 0.4204 - val_accuracy: 0.8160\n",
      "Epoch 7/20\n",
      "30/30 [==============================] - 20s 660ms/step - loss: 0.4252 - accuracy: 0.8080 - val_loss: 0.4205 - val_accuracy: 0.8220\n",
      "Epoch 8/20\n",
      "30/30 [==============================] - 20s 665ms/step - loss: 0.4107 - accuracy: 0.8087 - val_loss: 0.4159 - val_accuracy: 0.8200\n",
      "Epoch 9/20\n",
      "30/30 [==============================] - 19s 638ms/step - loss: 0.4021 - accuracy: 0.8093 - val_loss: 0.4133 - val_accuracy: 0.8020\n",
      "Epoch 10/20\n",
      "30/30 [==============================] - 19s 634ms/step - loss: 0.3983 - accuracy: 0.8147 - val_loss: 0.3860 - val_accuracy: 0.8520\n",
      "Epoch 11/20\n",
      "30/30 [==============================] - 20s 660ms/step - loss: 0.3695 - accuracy: 0.8360 - val_loss: 0.3321 - val_accuracy: 0.8860\n",
      "Epoch 12/20\n",
      "30/30 [==============================] - 20s 660ms/step - loss: 0.3404 - accuracy: 0.8580 - val_loss: 0.3045 - val_accuracy: 0.8920\n",
      "Epoch 13/20\n",
      "30/30 [==============================] - 18s 611ms/step - loss: 0.3156 - accuracy: 0.8840 - val_loss: 0.2491 - val_accuracy: 0.9440\n",
      "Epoch 14/20\n",
      "30/30 [==============================] - 19s 617ms/step - loss: 0.2692 - accuracy: 0.9107 - val_loss: 0.2068 - val_accuracy: 0.9500\n",
      "Epoch 15/20\n",
      "30/30 [==============================] - 20s 669ms/step - loss: 0.2167 - accuracy: 0.9380 - val_loss: 0.1789 - val_accuracy: 0.9480\n",
      "Epoch 16/20\n",
      "30/30 [==============================] - 20s 655ms/step - loss: 0.1947 - accuracy: 0.9413 - val_loss: 0.1836 - val_accuracy: 0.9420\n",
      "Epoch 17/20\n",
      "30/30 [==============================] - 20s 652ms/step - loss: 0.1797 - accuracy: 0.9447 - val_loss: 0.1711 - val_accuracy: 0.9480\n",
      "Epoch 18/20\n",
      "30/30 [==============================] - 19s 618ms/step - loss: 0.1681 - accuracy: 0.9533 - val_loss: 0.1691 - val_accuracy: 0.9500\n",
      "Epoch 19/20\n",
      "30/30 [==============================] - 19s 625ms/step - loss: 0.1564 - accuracy: 0.9500 - val_loss: 0.1712 - val_accuracy: 0.9520\n",
      "Epoch 20/20\n",
      "30/30 [==============================] - 19s 644ms/step - loss: 0.1441 - accuracy: 0.9540 - val_loss: 0.1638 - val_accuracy: 0.9480\n"
     ]
    },
    {
     "data": {
      "text/plain": [
       "<tensorflow.python.keras.callbacks.History at 0x21de6e10d60>"
      ]
     },
     "execution_count": 38,
     "metadata": {},
     "output_type": "execute_result"
    }
   ],
   "source": [
    "epochs = 20\n",
    "\n",
    "model.fit(train_tensors, train_targets, validation_data=(valid_tensors, valid_targets),\n",
    "          epochs=epochs, batch_size=50, verbose=1)"
   ]
  },
  {
   "cell_type": "markdown",
   "metadata": {},
   "source": [
    "# Evaluation du modèle retenu (5 couches)\n",
    "## Prediction sur échantillon test (400 images)"
   ]
  },
  {
   "cell_type": "code",
   "execution_count": 33,
   "metadata": {},
   "outputs": [
    {
     "name": "stdout",
     "output_type": "stream",
     "text": [
      "[1.0, 0.0, 0.0, 0.0, 1.0, 1.0, 1.0, 1.0, 1.0, 1.0, 1.0, 1.0, 1.0, 1.0, 1.0, 1.0, 1.0, 1.0, 0.0, 0.0, 0.0, 0.0, 0.0, 1.0, 1.0, 0.0, 1.0, 0.0, 0.0, 0.0, 0.0, 1.0, 0.0, 0.0, 1.0, 0.0, 1.0, 1.0, 0.0, 0.0, 0.0, 1.0, 1.0, 0.0, 1.0, 1.0, 1.0, 1.0, 0.0, 0.0, 0.0, 1.0, 1.0, 0.0, 1.0, 1.0, 0.0, 0.0, 1.0, 1.0, 0.0, 1.0, 0.0, 0.0, 0.0, 1.0, 1.0, 1.0, 0.0, 0.0, 0.0, 1.0, 0.0, 0.0, 1.0, 1.0, 1.0, 0.0, 1.0, 1.0, 0.0, 0.0, 0.0, 0.0, 1.0, 1.0, 0.0, 1.0, 0.0, 1.0, 1.0, 0.0, 0.0, 1.0, 1.0, 1.0, 0.0, 1.0, 0.0, 1.0, 0.0, 1.0, 1.0, 0.0, 1.0, 1.0, 1.0, 1.0, 1.0, 0.0, 1.0, 0.0, 0.0, 0.0, 0.0, 0.0, 0.0, 1.0, 0.0, 0.0, 0.0, 1.0, 0.0, 1.0, 1.0, 0.0, 0.0, 0.0, 0.0, 0.0, 1.0, 1.0, 1.0, 1.0, 0.0, 1.0, 0.0, 1.0, 1.0, 0.0, 1.0, 1.0, 0.0, 0.0, 1.0, 0.0, 1.0, 0.0, 1.0, 0.0, 1.0, 1.0, 1.0, 1.0, 1.0, 1.0, 1.0, 1.0, 0.0, 1.0, 1.0, 1.0, 0.0, 0.0, 0.0, 1.0, 1.0, 0.0, 0.0, 1.0, 0.0, 1.0, 1.0, 1.0, 1.0, 1.0, 1.0, 1.0, 0.0, 0.0, 0.0, 1.0, 0.0, 0.0, 1.0, 0.0, 1.0, 1.0, 0.0, 1.0, 1.0, 0.0, 1.0, 0.0, 1.0, 1.0, 1.0, 1.0, 1.0, 0.0, 0.0, 1.0, 1.0, 0.0, 1.0, 1.0, 0.0, 0.0, 0.0, 1.0, 0.0, 1.0, 1.0, 0.0, 1.0, 1.0, 0.0, 1.0, 1.0, 1.0, 1.0, 1.0, 1.0, 0.0, 1.0, 0.0, 1.0, 1.0, 1.0, 1.0, 1.0, 0.0, 1.0, 1.0, 0.0, 0.0, 0.0, 0.0, 1.0, 1.0, 1.0, 0.0, 0.0, 0.0, 1.0, 0.0, 1.0, 0.0, 1.0, 0.0, 1.0, 1.0, 1.0, 0.0, 0.0, 1.0, 1.0, 0.0, 1.0, 1.0, 1.0, 0.0, 0.0, 1.0, 1.0, 0.0, 1.0, 1.0, 1.0, 1.0, 1.0, 0.0, 1.0, 1.0, 0.0, 1.0, 0.0, 1.0, 1.0, 1.0, 1.0, 1.0, 0.0, 1.0, 1.0, 1.0, 1.0, 0.0, 1.0, 1.0, 1.0, 1.0, 1.0, 1.0, 1.0, 0.0, 1.0, 1.0, 1.0, 1.0, 0.0, 1.0, 1.0, 1.0, 0.0, 0.0, 1.0, 1.0, 1.0, 1.0, 1.0, 1.0, 1.0, 1.0, 0.0, 1.0, 1.0, 1.0, 1.0, 1.0, 0.0, 1.0, 1.0, 0.0, 0.0, 0.0, 0.0, 1.0, 0.0, 1.0, 1.0, 1.0, 0.0, 1.0, 1.0, 1.0, 1.0, 1.0, 1.0, 1.0, 1.0, 1.0, 1.0, 1.0, 1.0, 0.0, 0.0, 0.0, 1.0, 0.0, 1.0, 1.0, 1.0, 0.0, 0.0, 1.0, 1.0, 1.0, 0.0, 1.0, 1.0, 1.0, 1.0, 0.0, 1.0, 1.0, 0.0, 1.0, 1.0, 0.0, 0.0, 0.0, 1.0, 1.0, 0.0, 0.0, 0.0, 0.0, 0.0, 0.0, 1.0, 0.0, 1.0, 0.0, 1.0, 0.0, 1.0, 1.0, 0.0, 0.0, 1.0, 1.0, 1.0, 1.0, 1.0, 1.0, 0.0, 1.0, 1.0, 1.0]\n"
     ]
    }
   ],
   "source": [
    "predictions = [round(model.predict(np.expand_dims(tensor, axis=0))[0,0]) for tensor in test_tensors]\n",
    "print(predictions)"
   ]
  },
  {
   "cell_type": "markdown",
   "metadata": {},
   "source": [
    "## Prédictions avec récupération des probabilité (entre 0 et 1) de manière à pouvoir hanger le seuil"
   ]
  },
  {
   "cell_type": "code",
   "execution_count": 15,
   "metadata": {},
   "outputs": [
    {
     "name": "stdout",
     "output_type": "stream",
     "text": [
      "[0.9901123, 0.0013171732, 0.0019692779, 0.0030314326, 0.99061817, 0.9906813, 0.9487878, 0.9843567, 0.98895645, 0.9918337, 0.9969411, 0.9824065, 0.9741264, 0.9946107, 0.9954649, 0.9855695, 0.9906907, 0.9960546, 0.0013775826, 0.0013429523, 0.0011354387, 0.0010861158, 0.0139991045, 0.9850501, 0.9512263, 0.0012687147, 0.95701647, 0.0018898249, 0.0036892295, 0.0005489588, 0.0100027025, 0.9963255, 0.64293516, 0.0006634593, 0.9743413, 0.0016818643, 0.9927571, 0.9893127, 0.0014674067, 0.006174922, 0.13942608, 0.9404436, 0.9859476, 0.003655374, 0.9894687, 0.9965157, 0.9718585, 0.9769836, 0.010381907, 0.0065315664, 0.0004120767, 0.98872495, 0.9659101, 0.014884144, 0.98373735, 0.99661463, 0.00067317486, 0.13653257, 0.97847295, 0.9661018, 0.00074991584, 0.9842358, 0.0009562075, 0.0015995204, 0.07272819, 0.9659312, 0.97341084, 0.9775833, 0.9182472, 0.22888097, 0.0045704544, 0.9888143, 0.0017375052, 0.00093844533, 0.98829937, 0.99541116, 0.9761444, 0.0022743344, 0.76446563, 0.99846315, 0.00112468, 0.0008804202, 0.56320053, 0.0005393028, 0.91033983, 0.9687564, 0.00209558, 0.93284655, 0.0014486313, 0.98643214, 0.99710524, 0.08420968, 0.2996382, 0.9222188, 0.99287474, 0.9732003, 0.0017874539, 0.9952935, 0.0036670268, 0.9929228, 0.00094744563, 0.9729487, 0.9718436, 0.0016384721, 0.988031, 0.9546641, 0.98768866, 0.96846074, 0.9948351, 0.0020801723, 0.98201084, 0.004671514, 0.00065511465, 0.0017752349, 0.120687604, 0.06700647, 0.0020101964, 0.9895718, 0.043977022, 0.001716286, 0.0011330247, 0.9913484, 0.0014237165, 0.96435046, 0.99259806, 0.03261897, 0.020236194, 0.00092732906, 0.0007480979, 0.032132417, 0.9693598, 0.98669106, 0.9902743, 0.99073935, 0.0017994642, 0.96798444, 0.0014371872, 0.9895679, 0.99261856, 0.07363999, 0.9891952, 0.9875917, 0.03114304, 0.0034946501, 0.9935219, 0.51773196, 0.97074544, 0.0015074313, 0.98509705, 0.00075921416, 0.990316, 0.9923837, 0.9355675, 0.9735986, 0.98439515, 0.98220223, 0.9873823, 0.9792502, 0.0077755153, 0.9973102, 0.9770033, 0.98295873, 0.0013350844, 0.01360631, 0.00088328123, 0.81496847, 0.9924743, 0.014204949, 0.00083357096, 0.97684884, 0.0020105243, 0.9823413, 0.9676087, 0.983285, 0.9541772, 0.9731158, 0.96380466, 0.9835007, 0.0017969012, 0.0017620325, 0.0006632209, 0.9834749, 0.002511084, 0.00034967065, 0.9902563, 0.026629806, 0.9773971, 0.9816684, 0.004511863, 0.9878808, 0.9661714, 0.0062737465, 0.97834826, 0.36404693, 0.94042, 0.97797775, 0.9900311, 0.9761647, 0.9811305, 0.0013747811, 0.19771412, 0.9796556, 0.99381864, 0.00045529008, 0.97515714, 0.9826063, 0.007853389, 0.009386003, 0.0003694892, 0.931896, 0.0014741421, 0.99100554, 0.99397075, 0.0041258335, 0.99285495, 0.9917561, 0.06209883, 0.9956947, 0.9874202, 0.9867729, 0.9838896, 0.9782331, 0.9939374, 0.0018082261, 0.98820496, 0.0015627742, 0.98882926, 0.97251713, 0.9911839, 0.9757652, 0.9936841, 0.0009933114, 0.96351135, 0.9888308, 0.0066461563, 0.0015394092, 0.0004865229, 0.0009902716, 0.8915204, 0.9903149, 0.98278236, 0.00085166097, 0.0026070476, 0.0004621148, 0.9941826, 0.0017634928, 0.9806882, 0.0008960068, 0.987545, 0.0016178787, 0.9703146, 0.9941873, 0.98059976, 0.5559052, 0.0046573877, 0.9758445, 0.9662207, 0.003627926, 0.9701948, 0.97451335, 0.91789454, 0.0016769171, 0.0031898022, 0.95631844, 0.9925623, 0.05469948, 0.9905919, 0.99689496, 0.99666154, 0.9947256, 0.9679456, 0.106922, 0.99225557, 0.9933605, 0.0015800595, 0.9258338, 0.0014746487, 0.9914089, 0.99599946, 0.9953744, 0.9969151, 0.97383165, 0.010509372, 0.993978, 0.9982405, 0.99172735, 0.9944517, 0.008047253, 0.9886881, 0.9928373, 0.9864527, 0.9962277, 0.99001944, 0.74027085, 0.98436534, 0.0018753707, 0.98647654, 0.9908431, 0.95944357, 0.99719155, 0.002847731, 0.9603372, 0.99111795, 0.98861176, 0.0015646219, 0.022031575, 0.9833566, 0.97815967, 0.9818264, 0.9899381, 0.99103445, 0.9846527, 0.979957, 0.97882926, 0.15647313, 0.94717765, 0.98717904, 0.97906864, 0.97860456, 0.31455857, 0.046056062, 0.9931009, 0.9670154, 0.5904218, 0.0081855655, 0.012044787, 0.055247843, 0.99478877, 0.022750556, 0.9353701, 0.98561543, 0.96558917, 0.011045635, 0.78900725, 0.99341106, 0.9916643, 0.97874725, 0.9876883, 0.71259636, 0.9267403, 0.9949404, 0.9891341, 0.96048707, 0.99096113, 0.99517226, 0.00040099025, 0.054788172, 0.0035929978, 0.86583024, 0.0016133189, 0.99489343, 0.99328613, 0.9784267, 0.0009396374, 0.0018064678, 0.9929639, 0.9212574, 0.99431837, 0.009511054, 0.28661188, 0.9933922, 0.9901537, 0.95064545, 0.0022762716, 0.9773922, 0.9957111, 0.002132982, 0.6021668, 0.9811238, 0.044918746, 0.08108047, 0.0015154183, 0.99420446, 0.9776436, 0.011166304, 0.0013984144, 0.012366891, 0.02955848, 0.0018285215, 0.0027095675, 0.973421, 0.0022390783, 0.9774561, 0.0012829006, 0.9937803, 0.0004632473, 0.98895043, 0.2610008, 0.0026377738, 0.0054886937, 0.98047537, 0.9793047, 0.9855628, 0.9735106, 0.994429, 0.9954985, 0.002678275, 0.9577706, 0.99338007, 0.9892306]\n"
     ]
    }
   ],
   "source": [
    "predictions = [model.predict(np.expand_dims(tensor, axis=0))[0,0] for tensor in test_tensors]\n",
    "print(predictions)"
   ]
  },
  {
   "cell_type": "markdown",
   "metadata": {},
   "source": [
    "## Seuil à 0.5"
   ]
  },
  {
   "cell_type": "code",
   "execution_count": 16,
   "metadata": {},
   "outputs": [
    {
     "name": "stdout",
     "output_type": "stream",
     "text": [
      "[1 0 0 0 1 1 1 1 1 1 1 1 1 1 1 1 1 1 0 0 0 0 0 1 1 0 1 0 0 0 0 1 1 0 1 0 1\n",
      " 1 0 0 0 1 1 0 1 1 1 1 0 0 0 1 1 0 1 1 0 0 1 1 0 1 0 0 0 1 1 1 1 0 0 1 0 0\n",
      " 1 1 1 0 1 1 0 0 1 0 1 1 0 1 0 1 1 0 0 1 1 1 0 1 0 1 0 1 1 0 1 1 1 1 1 0 1\n",
      " 0 0 0 0 0 0 1 0 0 0 1 0 1 1 0 0 0 0 0 1 1 1 1 0 1 0 1 1 0 1 1 0 0 1 1 1 0\n",
      " 1 0 1 1 1 1 1 1 1 1 0 1 1 1 0 0 0 1 1 0 0 1 0 1 1 1 1 1 1 1 0 0 0 1 0 0 1\n",
      " 0 1 1 0 1 1 0 1 0 1 1 1 1 1 0 0 1 1 0 1 1 0 0 0 1 0 1 1 0 1 1 0 1 1 1 1 1\n",
      " 1 0 1 0 1 1 1 1 1 0 1 1 0 0 0 0 1 1 1 0 0 0 1 0 1 0 1 0 1 1 1 1 0 1 1 0 1\n",
      " 1 1 0 0 1 1 0 1 1 1 1 1 0 1 1 0 1 0 1 1 1 1 1 0 1 1 1 1 0 1 1 1 1 1 1 1 0\n",
      " 1 1 1 1 0 1 1 1 0 0 1 1 1 1 1 1 1 1 0 1 1 1 1 0 0 1 1 1 0 0 0 1 0 1 1 1 0\n",
      " 1 1 1 1 1 1 1 1 1 1 1 1 0 0 0 1 0 1 1 1 0 0 1 1 1 0 0 1 1 1 0 1 1 0 1 1 0\n",
      " 0 0 1 1 0 0 0 0 0 0 1 0 1 0 1 0 1 0 0 0 1 1 1 1 1 1 0 1 1 1]\n"
     ]
    }
   ],
   "source": [
    "a = np.empty(400)\n",
    "a.fill(0.5)\n",
    "predictions_1 = np.where(predictions > a, 1,0)\n",
    "print(predictions_1)"
   ]
  },
  {
   "cell_type": "markdown",
   "metadata": {},
   "source": [
    "## On augmente le seuil de détection des positifs de 0.5 à 0.9 ou 0.95"
   ]
  },
  {
   "cell_type": "code",
   "execution_count": 20,
   "metadata": {},
   "outputs": [
    {
     "name": "stdout",
     "output_type": "stream",
     "text": [
      "[1 0 0 0 1 1 0 1 1 1 1 1 1 1 1 1 1 1 0 0 0 0 0 1 1 0 1 0 0 0 0 1 0 0 1 0 1\n",
      " 1 0 0 0 0 1 0 1 1 1 1 0 0 0 1 1 0 1 1 0 0 1 1 0 1 0 0 0 1 1 1 0 0 0 1 0 0\n",
      " 1 1 1 0 0 1 0 0 0 0 0 1 0 0 0 1 1 0 0 0 1 1 0 1 0 1 0 1 1 0 1 1 1 1 1 0 1\n",
      " 0 0 0 0 0 0 1 0 0 0 1 0 1 1 0 0 0 0 0 1 1 1 1 0 1 0 1 1 0 1 1 0 0 1 0 1 0\n",
      " 1 0 1 1 0 1 1 1 1 1 0 1 1 1 0 0 0 0 1 0 0 1 0 1 1 1 1 1 1 1 0 0 0 1 0 0 1\n",
      " 0 1 1 0 1 1 0 1 0 0 1 1 1 1 0 0 1 1 0 1 1 0 0 0 0 0 1 1 0 1 1 0 1 1 1 1 1\n",
      " 1 0 1 0 1 1 1 1 1 0 1 1 0 0 0 0 0 1 1 0 0 0 1 0 1 0 1 0 1 1 1 0 0 1 1 0 1\n",
      " 1 0 0 0 1 1 0 1 1 1 1 1 0 1 1 0 0 0 1 1 1 1 1 0 1 1 1 1 0 1 1 1 1 1 0 1 0\n",
      " 1 1 1 1 0 1 1 1 0 0 1 1 1 1 1 1 1 1 0 0 1 1 1 0 0 1 1 0 0 0 0 1 0 0 1 1 0\n",
      " 0 1 1 1 1 0 0 1 1 1 1 1 0 0 0 0 0 1 1 1 0 0 1 0 1 0 0 1 1 1 0 1 1 0 0 1 0\n",
      " 0 0 1 1 0 0 0 0 0 0 1 0 1 0 1 0 1 0 0 0 1 1 1 1 1 1 0 1 1 1]\n"
     ]
    }
   ],
   "source": [
    "a = np.empty(400)\n",
    "a.fill(0.95)\n",
    "predictions_2 = np.where(predictions > a, 1,0)\n",
    "print(predictions_2)"
   ]
  },
  {
   "cell_type": "markdown",
   "metadata": {},
   "source": [
    "### Combien sont bien prédits (sur les 400) ?\n",
    "#### Pour la première simulation (seuil = 0.5)"
   ]
  },
  {
   "cell_type": "code",
   "execution_count": 36,
   "metadata": {},
   "outputs": [
    {
     "name": "stdout",
     "output_type": "stream",
     "text": [
      "390\n"
     ]
    }
   ],
   "source": [
    "#print(predictions==test_targets)\n",
    "\n",
    "print(sum(predictions_1==test_targets))"
   ]
  },
  {
   "cell_type": "markdown",
   "metadata": {},
   "source": [
    "## Accuracy et Matrices de confusion, en ligne valeurs réels en colonne les prediction\n",
    "\n",
    "### Première simulation (seuil = 0.5)"
   ]
  },
  {
   "cell_type": "markdown",
   "metadata": {},
   "source": [
    "#### 155 vrais negatifs, 235 vrais positifs, 8 faux positifs, 2 faux négatifs"
   ]
  },
  {
   "cell_type": "code",
   "execution_count": 37,
   "metadata": {},
   "outputs": [
    {
     "name": "stdout",
     "output_type": "stream",
     "text": [
      "[[155   8]\n",
      " [  2 235]]\n",
      "0.975\n"
     ]
    }
   ],
   "source": [
    "print(confusion_matrix(test_targets, predictions_1))\n",
    "\n",
    "print(accuracy_score(test_targets, predictions_1))"
   ]
  },
  {
   "cell_type": "code",
   "execution_count": 56,
   "metadata": {},
   "outputs": [
    {
     "name": "stdout",
     "output_type": "stream",
     "text": [
      "157\n",
      "163\n"
     ]
    }
   ],
   "source": [
    "a = np.zeros(400)\n",
    "print(sum(predictions==a))\n",
    "print(sum(test_targets==a))"
   ]
  },
  {
   "cell_type": "markdown",
   "metadata": {},
   "source": [
    "## 2 eme simulation (seuil = 0.5)"
   ]
  },
  {
   "cell_type": "code",
   "execution_count": 68,
   "metadata": {},
   "outputs": [
    {
     "name": "stdout",
     "output_type": "stream",
     "text": [
      "[[162   1]\n",
      " [  0 237]]\n",
      "0.9975\n"
     ]
    }
   ],
   "source": [
    "print(confusion_matrix(test_targets, predictions_1))\n",
    "\n",
    "print(accuracy_score(test_targets, predictions_1))"
   ]
  },
  {
   "cell_type": "markdown",
   "metadata": {},
   "source": [
    "## avec seuil = 0.9"
   ]
  },
  {
   "cell_type": "code",
   "execution_count": 75,
   "metadata": {},
   "outputs": [
    {
     "name": "stdout",
     "output_type": "stream",
     "text": [
      "[[163   0]\n",
      " [  3 234]]\n",
      "0.9925\n"
     ]
    }
   ],
   "source": [
    "print(confusion_matrix(test_targets, predictions_2))\n",
    "\n",
    "print(accuracy_score(test_targets, predictions_2))"
   ]
  },
  {
   "cell_type": "markdown",
   "metadata": {},
   "source": [
    "## 3 eme simulation (seuil = 0.5)"
   ]
  },
  {
   "cell_type": "code",
   "execution_count": 17,
   "metadata": {},
   "outputs": [
    {
     "name": "stdout",
     "output_type": "stream",
     "text": [
      "[[154   9]\n",
      " [  0 237]]\n",
      "0.9775\n"
     ]
    }
   ],
   "source": [
    "print(confusion_matrix(test_targets, predictions_1))\n",
    "\n",
    "print(accuracy_score(test_targets, predictions_1))"
   ]
  },
  {
   "cell_type": "markdown",
   "metadata": {},
   "source": [
    "## avec seuil = 0.9"
   ]
  },
  {
   "cell_type": "code",
   "execution_count": 19,
   "metadata": {},
   "outputs": [
    {
     "name": "stdout",
     "output_type": "stream",
     "text": [
      "[[161   2]\n",
      " [  6 231]]\n",
      "0.98\n"
     ]
    }
   ],
   "source": [
    "print(confusion_matrix(test_targets, predictions_2))\n",
    "\n",
    "print(accuracy_score(test_targets, predictions_2))"
   ]
  },
  {
   "cell_type": "markdown",
   "metadata": {},
   "source": [
    "## avec seuil = 0.95"
   ]
  },
  {
   "cell_type": "code",
   "execution_count": 21,
   "metadata": {},
   "outputs": [
    {
     "name": "stdout",
     "output_type": "stream",
     "text": [
      "[[163   0]\n",
      " [ 19 218]]\n",
      "0.9525\n"
     ]
    }
   ],
   "source": [
    "print(confusion_matrix(test_targets, predictions_2))\n",
    "\n",
    "print(accuracy_score(test_targets, predictions_2))"
   ]
  },
  {
   "cell_type": "markdown",
   "metadata": {},
   "source": [
    "## Annexe : taille d'une image"
   ]
  },
  {
   "cell_type": "code",
   "execution_count": 6,
   "metadata": {},
   "outputs": [
    {
     "name": "stdout",
     "output_type": "stream",
     "text": [
      "sample image shape:  (2415, 2070)\n"
     ]
    },
    {
     "data": {
      "text/plain": [
       "<matplotlib.image.AxesImage at 0x1c45b7ee730>"
      ]
     },
     "execution_count": 6,
     "metadata": {},
     "output_type": "execute_result"
    },
    {
     "data": {
      "image/png": "[encoded data removed]",
      "text/plain": [
       "<Figure size 432x288 with 1 Axes>"
      ]
     },
     "metadata": {
      "needs_background": "light"
     },
     "output_type": "display_data"
    }
   ],
   "source": [
    "from skimage.io import imread\n",
    "from skimage.transform import resize\n",
    "#sample_image = imread(\"bumblebee.png\")\n",
    "sample_image = imread(\"AE00008_080949_00_2_2_2001.jpg\")\n",
    "sample_image= sample_image.astype(float)\n",
    "\n",
    "size = sample_image.shape\n",
    "print(\"sample image shape: \", sample_image.shape)\n",
    "\n",
    "plt.imshow(sample_image.astype('uint8'))"
   ]
  }
 ],
 "metadata": {
  "kernelspec": {
   "display_name": "Python 3",
   "language": "python",
   "name": "python3"
  },
  "language_info": {
   "codemirror_mode": {
    "name": "ipython",
    "version": 3
   },
   "file_extension": ".py",
   "mimetype": "text/x-python",
   "name": "python",
   "nbconvert_exporter": "python",
   "pygments_lexer": "ipython3",
   "version": "3.8.3"
  }
 },
 "nbformat": 4,
 "nbformat_minor": 4
}
